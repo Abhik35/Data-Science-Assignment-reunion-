{
 "cells": [
  {
   "cell_type": "markdown",
   "metadata": {},
   "source": [
    "# import all necessary libraries"
   ]
  },
  {
   "cell_type": "code",
   "execution_count": 1,
   "metadata": {},
   "outputs": [],
   "source": [
    "import numpy as np\n",
    "import pandas as pd\n",
    "import matplotlib.pyplot as plt\n",
    "%matplotlib inline\n",
    "import seaborn as sns"
   ]
  },
  {
   "cell_type": "markdown",
   "metadata": {},
   "source": [
    "# load the dataset"
   ]
  },
  {
   "cell_type": "code",
   "execution_count": 2,
   "metadata": {},
   "outputs": [],
   "source": [
    "df1=pd.read_csv(\"loan.csv\")\n",
    "df2=pd.read_csv(\"applicant.csv\")"
   ]
  },
  {
   "cell_type": "code",
   "execution_count": 3,
   "metadata": {},
   "outputs": [
    {
     "data": {
      "text/html": [
       "<div>\n",
       "<style scoped>\n",
       "    .dataframe tbody tr th:only-of-type {\n",
       "        vertical-align: middle;\n",
       "    }\n",
       "\n",
       "    .dataframe tbody tr th {\n",
       "        vertical-align: top;\n",
       "    }\n",
       "\n",
       "    .dataframe thead th {\n",
       "        text-align: right;\n",
       "    }\n",
       "</style>\n",
       "<table border=\"1\" class=\"dataframe\">\n",
       "  <thead>\n",
       "    <tr style=\"text-align: right;\">\n",
       "      <th></th>\n",
       "      <th>loan_application_id</th>\n",
       "      <th>applicant_id</th>\n",
       "      <th>Months_loan_taken_for</th>\n",
       "      <th>Purpose</th>\n",
       "      <th>Principal_loan_amount</th>\n",
       "      <th>EMI_rate_in_percentage_of_disposable_income</th>\n",
       "      <th>Property</th>\n",
       "      <th>Has_coapplicant</th>\n",
       "      <th>Has_guarantor</th>\n",
       "      <th>Other_EMI_plans</th>\n",
       "      <th>Number_of_existing_loans_at_this_bank</th>\n",
       "      <th>Loan_history</th>\n",
       "      <th>high_risk_applicant</th>\n",
       "    </tr>\n",
       "  </thead>\n",
       "  <tbody>\n",
       "    <tr>\n",
       "      <th>0</th>\n",
       "      <td>d68d975e-edad-11ea-8761-1d6f9c1ff461</td>\n",
       "      <td>1469590</td>\n",
       "      <td>6</td>\n",
       "      <td>electronic equipment</td>\n",
       "      <td>1169000</td>\n",
       "      <td>4</td>\n",
       "      <td>real estate</td>\n",
       "      <td>0</td>\n",
       "      <td>0</td>\n",
       "      <td>NaN</td>\n",
       "      <td>2</td>\n",
       "      <td>critical/pending loans at other banks</td>\n",
       "      <td>0</td>\n",
       "    </tr>\n",
       "    <tr>\n",
       "      <th>1</th>\n",
       "      <td>d68d989e-edad-11ea-b1d5-2bcf65006448</td>\n",
       "      <td>1203873</td>\n",
       "      <td>48</td>\n",
       "      <td>electronic equipment</td>\n",
       "      <td>5951000</td>\n",
       "      <td>2</td>\n",
       "      <td>real estate</td>\n",
       "      <td>0</td>\n",
       "      <td>0</td>\n",
       "      <td>NaN</td>\n",
       "      <td>1</td>\n",
       "      <td>existing loans paid back duly till now</td>\n",
       "      <td>1</td>\n",
       "    </tr>\n",
       "    <tr>\n",
       "      <th>2</th>\n",
       "      <td>d68d995c-edad-11ea-814a-1b6716782575</td>\n",
       "      <td>1432761</td>\n",
       "      <td>12</td>\n",
       "      <td>education</td>\n",
       "      <td>2096000</td>\n",
       "      <td>2</td>\n",
       "      <td>real estate</td>\n",
       "      <td>0</td>\n",
       "      <td>0</td>\n",
       "      <td>NaN</td>\n",
       "      <td>1</td>\n",
       "      <td>critical/pending loans at other banks</td>\n",
       "      <td>0</td>\n",
       "    </tr>\n",
       "    <tr>\n",
       "      <th>3</th>\n",
       "      <td>d68d99fc-edad-11ea-8841-17e8848060ae</td>\n",
       "      <td>1207582</td>\n",
       "      <td>42</td>\n",
       "      <td>FF&amp;E</td>\n",
       "      <td>7882000</td>\n",
       "      <td>2</td>\n",
       "      <td>building society savings agreement/life insurance</td>\n",
       "      <td>0</td>\n",
       "      <td>1</td>\n",
       "      <td>NaN</td>\n",
       "      <td>1</td>\n",
       "      <td>existing loans paid back duly till now</td>\n",
       "      <td>0</td>\n",
       "    </tr>\n",
       "    <tr>\n",
       "      <th>4</th>\n",
       "      <td>d68d9a92-edad-11ea-9f3d-1f8682db006a</td>\n",
       "      <td>1674436</td>\n",
       "      <td>24</td>\n",
       "      <td>new vehicle</td>\n",
       "      <td>4870000</td>\n",
       "      <td>3</td>\n",
       "      <td>NaN</td>\n",
       "      <td>0</td>\n",
       "      <td>0</td>\n",
       "      <td>NaN</td>\n",
       "      <td>2</td>\n",
       "      <td>delay in paying off loans in the past</td>\n",
       "      <td>1</td>\n",
       "    </tr>\n",
       "  </tbody>\n",
       "</table>\n",
       "</div>"
      ],
      "text/plain": [
       "                    loan_application_id  applicant_id  Months_loan_taken_for  \\\n",
       "0  d68d975e-edad-11ea-8761-1d6f9c1ff461       1469590                      6   \n",
       "1  d68d989e-edad-11ea-b1d5-2bcf65006448       1203873                     48   \n",
       "2  d68d995c-edad-11ea-814a-1b6716782575       1432761                     12   \n",
       "3  d68d99fc-edad-11ea-8841-17e8848060ae       1207582                     42   \n",
       "4  d68d9a92-edad-11ea-9f3d-1f8682db006a       1674436                     24   \n",
       "\n",
       "                Purpose  Principal_loan_amount  \\\n",
       "0  electronic equipment                1169000   \n",
       "1  electronic equipment                5951000   \n",
       "2             education                2096000   \n",
       "3                  FF&E                7882000   \n",
       "4           new vehicle                4870000   \n",
       "\n",
       "   EMI_rate_in_percentage_of_disposable_income  \\\n",
       "0                                            4   \n",
       "1                                            2   \n",
       "2                                            2   \n",
       "3                                            2   \n",
       "4                                            3   \n",
       "\n",
       "                                            Property  Has_coapplicant  \\\n",
       "0                                        real estate                0   \n",
       "1                                        real estate                0   \n",
       "2                                        real estate                0   \n",
       "3  building society savings agreement/life insurance                0   \n",
       "4                                                NaN                0   \n",
       "\n",
       "   Has_guarantor Other_EMI_plans  Number_of_existing_loans_at_this_bank  \\\n",
       "0              0             NaN                                      2   \n",
       "1              0             NaN                                      1   \n",
       "2              0             NaN                                      1   \n",
       "3              1             NaN                                      1   \n",
       "4              0             NaN                                      2   \n",
       "\n",
       "                             Loan_history  high_risk_applicant  \n",
       "0   critical/pending loans at other banks                    0  \n",
       "1  existing loans paid back duly till now                    1  \n",
       "2   critical/pending loans at other banks                    0  \n",
       "3  existing loans paid back duly till now                    0  \n",
       "4   delay in paying off loans in the past                    1  "
      ]
     },
     "execution_count": 3,
     "metadata": {},
     "output_type": "execute_result"
    }
   ],
   "source": [
    "df1.head()"
   ]
  },
  {
   "cell_type": "code",
   "execution_count": 4,
   "metadata": {},
   "outputs": [
    {
     "data": {
      "text/html": [
       "<div>\n",
       "<style scoped>\n",
       "    .dataframe tbody tr th:only-of-type {\n",
       "        vertical-align: middle;\n",
       "    }\n",
       "\n",
       "    .dataframe tbody tr th {\n",
       "        vertical-align: top;\n",
       "    }\n",
       "\n",
       "    .dataframe thead th {\n",
       "        text-align: right;\n",
       "    }\n",
       "</style>\n",
       "<table border=\"1\" class=\"dataframe\">\n",
       "  <thead>\n",
       "    <tr style=\"text-align: right;\">\n",
       "      <th></th>\n",
       "      <th>applicant_id</th>\n",
       "      <th>Primary_applicant_age_in_years</th>\n",
       "      <th>Gender</th>\n",
       "      <th>Marital_status</th>\n",
       "      <th>Number_of_dependents</th>\n",
       "      <th>Housing</th>\n",
       "      <th>Years_at_current_residence</th>\n",
       "      <th>Employment_status</th>\n",
       "      <th>Has_been_employed_for_at_least</th>\n",
       "      <th>Has_been_employed_for_at_most</th>\n",
       "      <th>Telephone</th>\n",
       "      <th>Foreign_worker</th>\n",
       "      <th>Savings_account_balance</th>\n",
       "      <th>Balance_in_existing_bank_account_(lower_limit_of_bucket)</th>\n",
       "      <th>Balance_in_existing_bank_account_(upper_limit_of_bucket)</th>\n",
       "    </tr>\n",
       "  </thead>\n",
       "  <tbody>\n",
       "    <tr>\n",
       "      <th>0</th>\n",
       "      <td>1469590</td>\n",
       "      <td>67</td>\n",
       "      <td>male</td>\n",
       "      <td>single</td>\n",
       "      <td>1</td>\n",
       "      <td>own</td>\n",
       "      <td>4</td>\n",
       "      <td>skilled employee / official</td>\n",
       "      <td>7 years</td>\n",
       "      <td>NaN</td>\n",
       "      <td>Registered under the applicant's name</td>\n",
       "      <td>1</td>\n",
       "      <td>NaN</td>\n",
       "      <td>NaN</td>\n",
       "      <td>0</td>\n",
       "    </tr>\n",
       "    <tr>\n",
       "      <th>1</th>\n",
       "      <td>1203873</td>\n",
       "      <td>22</td>\n",
       "      <td>female</td>\n",
       "      <td>divorced/separated/married</td>\n",
       "      <td>1</td>\n",
       "      <td>own</td>\n",
       "      <td>2</td>\n",
       "      <td>skilled employee / official</td>\n",
       "      <td>1 year</td>\n",
       "      <td>4 years</td>\n",
       "      <td>NaN</td>\n",
       "      <td>1</td>\n",
       "      <td>Low</td>\n",
       "      <td>0</td>\n",
       "      <td>2 lac</td>\n",
       "    </tr>\n",
       "    <tr>\n",
       "      <th>2</th>\n",
       "      <td>1432761</td>\n",
       "      <td>49</td>\n",
       "      <td>male</td>\n",
       "      <td>single</td>\n",
       "      <td>2</td>\n",
       "      <td>own</td>\n",
       "      <td>3</td>\n",
       "      <td>unskilled - resident</td>\n",
       "      <td>4 years</td>\n",
       "      <td>7 years</td>\n",
       "      <td>NaN</td>\n",
       "      <td>1</td>\n",
       "      <td>Low</td>\n",
       "      <td>NaN</td>\n",
       "      <td>NaN</td>\n",
       "    </tr>\n",
       "    <tr>\n",
       "      <th>3</th>\n",
       "      <td>1207582</td>\n",
       "      <td>45</td>\n",
       "      <td>male</td>\n",
       "      <td>single</td>\n",
       "      <td>2</td>\n",
       "      <td>for free</td>\n",
       "      <td>4</td>\n",
       "      <td>skilled employee / official</td>\n",
       "      <td>4 years</td>\n",
       "      <td>7 years</td>\n",
       "      <td>NaN</td>\n",
       "      <td>1</td>\n",
       "      <td>Low</td>\n",
       "      <td>NaN</td>\n",
       "      <td>0</td>\n",
       "    </tr>\n",
       "    <tr>\n",
       "      <th>4</th>\n",
       "      <td>1674436</td>\n",
       "      <td>53</td>\n",
       "      <td>male</td>\n",
       "      <td>single</td>\n",
       "      <td>2</td>\n",
       "      <td>for free</td>\n",
       "      <td>4</td>\n",
       "      <td>skilled employee / official</td>\n",
       "      <td>1 year</td>\n",
       "      <td>4 years</td>\n",
       "      <td>NaN</td>\n",
       "      <td>1</td>\n",
       "      <td>Low</td>\n",
       "      <td>NaN</td>\n",
       "      <td>0</td>\n",
       "    </tr>\n",
       "  </tbody>\n",
       "</table>\n",
       "</div>"
      ],
      "text/plain": [
       "   applicant_id  Primary_applicant_age_in_years  Gender  \\\n",
       "0       1469590                              67    male   \n",
       "1       1203873                              22  female   \n",
       "2       1432761                              49    male   \n",
       "3       1207582                              45    male   \n",
       "4       1674436                              53    male   \n",
       "\n",
       "               Marital_status  Number_of_dependents   Housing  \\\n",
       "0                      single                     1       own   \n",
       "1  divorced/separated/married                     1       own   \n",
       "2                      single                     2       own   \n",
       "3                      single                     2  for free   \n",
       "4                      single                     2  for free   \n",
       "\n",
       "   Years_at_current_residence            Employment_status  \\\n",
       "0                           4  skilled employee / official   \n",
       "1                           2  skilled employee / official   \n",
       "2                           3         unskilled - resident   \n",
       "3                           4  skilled employee / official   \n",
       "4                           4  skilled employee / official   \n",
       "\n",
       "  Has_been_employed_for_at_least Has_been_employed_for_at_most  \\\n",
       "0                        7 years                           NaN   \n",
       "1                         1 year                       4 years   \n",
       "2                        4 years                       7 years   \n",
       "3                        4 years                       7 years   \n",
       "4                         1 year                       4 years   \n",
       "\n",
       "                               Telephone  Foreign_worker  \\\n",
       "0  Registered under the applicant's name               1   \n",
       "1                                    NaN               1   \n",
       "2                                    NaN               1   \n",
       "3                                    NaN               1   \n",
       "4                                    NaN               1   \n",
       "\n",
       "  Savings_account_balance  \\\n",
       "0                     NaN   \n",
       "1                     Low   \n",
       "2                     Low   \n",
       "3                     Low   \n",
       "4                     Low   \n",
       "\n",
       "  Balance_in_existing_bank_account_(lower_limit_of_bucket)  \\\n",
       "0                                                NaN         \n",
       "1                                                  0         \n",
       "2                                                NaN         \n",
       "3                                                NaN         \n",
       "4                                                NaN         \n",
       "\n",
       "  Balance_in_existing_bank_account_(upper_limit_of_bucket)  \n",
       "0                                                  0        \n",
       "1                                              2 lac        \n",
       "2                                                NaN        \n",
       "3                                                  0        \n",
       "4                                                  0        "
      ]
     },
     "execution_count": 4,
     "metadata": {},
     "output_type": "execute_result"
    }
   ],
   "source": [
    "df2.head()"
   ]
  },
  {
   "cell_type": "code",
   "execution_count": 5,
   "metadata": {},
   "outputs": [],
   "source": [
    "df=pd.merge(df1, df2) #merge the two dataset"
   ]
  },
  {
   "cell_type": "code",
   "execution_count": 6,
   "metadata": {},
   "outputs": [
    {
     "data": {
      "text/html": [
       "<div>\n",
       "<style scoped>\n",
       "    .dataframe tbody tr th:only-of-type {\n",
       "        vertical-align: middle;\n",
       "    }\n",
       "\n",
       "    .dataframe tbody tr th {\n",
       "        vertical-align: top;\n",
       "    }\n",
       "\n",
       "    .dataframe thead th {\n",
       "        text-align: right;\n",
       "    }\n",
       "</style>\n",
       "<table border=\"1\" class=\"dataframe\">\n",
       "  <thead>\n",
       "    <tr style=\"text-align: right;\">\n",
       "      <th></th>\n",
       "      <th>loan_application_id</th>\n",
       "      <th>applicant_id</th>\n",
       "      <th>Months_loan_taken_for</th>\n",
       "      <th>Purpose</th>\n",
       "      <th>Principal_loan_amount</th>\n",
       "      <th>EMI_rate_in_percentage_of_disposable_income</th>\n",
       "      <th>Property</th>\n",
       "      <th>Has_coapplicant</th>\n",
       "      <th>Has_guarantor</th>\n",
       "      <th>Other_EMI_plans</th>\n",
       "      <th>...</th>\n",
       "      <th>Housing</th>\n",
       "      <th>Years_at_current_residence</th>\n",
       "      <th>Employment_status</th>\n",
       "      <th>Has_been_employed_for_at_least</th>\n",
       "      <th>Has_been_employed_for_at_most</th>\n",
       "      <th>Telephone</th>\n",
       "      <th>Foreign_worker</th>\n",
       "      <th>Savings_account_balance</th>\n",
       "      <th>Balance_in_existing_bank_account_(lower_limit_of_bucket)</th>\n",
       "      <th>Balance_in_existing_bank_account_(upper_limit_of_bucket)</th>\n",
       "    </tr>\n",
       "  </thead>\n",
       "  <tbody>\n",
       "    <tr>\n",
       "      <th>0</th>\n",
       "      <td>d68d975e-edad-11ea-8761-1d6f9c1ff461</td>\n",
       "      <td>1469590</td>\n",
       "      <td>6</td>\n",
       "      <td>electronic equipment</td>\n",
       "      <td>1169000</td>\n",
       "      <td>4</td>\n",
       "      <td>real estate</td>\n",
       "      <td>0</td>\n",
       "      <td>0</td>\n",
       "      <td>NaN</td>\n",
       "      <td>...</td>\n",
       "      <td>own</td>\n",
       "      <td>4</td>\n",
       "      <td>skilled employee / official</td>\n",
       "      <td>7 years</td>\n",
       "      <td>NaN</td>\n",
       "      <td>Registered under the applicant's name</td>\n",
       "      <td>1</td>\n",
       "      <td>NaN</td>\n",
       "      <td>NaN</td>\n",
       "      <td>0</td>\n",
       "    </tr>\n",
       "    <tr>\n",
       "      <th>1</th>\n",
       "      <td>d68d989e-edad-11ea-b1d5-2bcf65006448</td>\n",
       "      <td>1203873</td>\n",
       "      <td>48</td>\n",
       "      <td>electronic equipment</td>\n",
       "      <td>5951000</td>\n",
       "      <td>2</td>\n",
       "      <td>real estate</td>\n",
       "      <td>0</td>\n",
       "      <td>0</td>\n",
       "      <td>NaN</td>\n",
       "      <td>...</td>\n",
       "      <td>own</td>\n",
       "      <td>2</td>\n",
       "      <td>skilled employee / official</td>\n",
       "      <td>1 year</td>\n",
       "      <td>4 years</td>\n",
       "      <td>NaN</td>\n",
       "      <td>1</td>\n",
       "      <td>Low</td>\n",
       "      <td>0</td>\n",
       "      <td>2 lac</td>\n",
       "    </tr>\n",
       "    <tr>\n",
       "      <th>2</th>\n",
       "      <td>d68d995c-edad-11ea-814a-1b6716782575</td>\n",
       "      <td>1432761</td>\n",
       "      <td>12</td>\n",
       "      <td>education</td>\n",
       "      <td>2096000</td>\n",
       "      <td>2</td>\n",
       "      <td>real estate</td>\n",
       "      <td>0</td>\n",
       "      <td>0</td>\n",
       "      <td>NaN</td>\n",
       "      <td>...</td>\n",
       "      <td>own</td>\n",
       "      <td>3</td>\n",
       "      <td>unskilled - resident</td>\n",
       "      <td>4 years</td>\n",
       "      <td>7 years</td>\n",
       "      <td>NaN</td>\n",
       "      <td>1</td>\n",
       "      <td>Low</td>\n",
       "      <td>NaN</td>\n",
       "      <td>NaN</td>\n",
       "    </tr>\n",
       "    <tr>\n",
       "      <th>3</th>\n",
       "      <td>d68d99fc-edad-11ea-8841-17e8848060ae</td>\n",
       "      <td>1207582</td>\n",
       "      <td>42</td>\n",
       "      <td>FF&amp;E</td>\n",
       "      <td>7882000</td>\n",
       "      <td>2</td>\n",
       "      <td>building society savings agreement/life insurance</td>\n",
       "      <td>0</td>\n",
       "      <td>1</td>\n",
       "      <td>NaN</td>\n",
       "      <td>...</td>\n",
       "      <td>for free</td>\n",
       "      <td>4</td>\n",
       "      <td>skilled employee / official</td>\n",
       "      <td>4 years</td>\n",
       "      <td>7 years</td>\n",
       "      <td>NaN</td>\n",
       "      <td>1</td>\n",
       "      <td>Low</td>\n",
       "      <td>NaN</td>\n",
       "      <td>0</td>\n",
       "    </tr>\n",
       "    <tr>\n",
       "      <th>4</th>\n",
       "      <td>d68d9a92-edad-11ea-9f3d-1f8682db006a</td>\n",
       "      <td>1674436</td>\n",
       "      <td>24</td>\n",
       "      <td>new vehicle</td>\n",
       "      <td>4870000</td>\n",
       "      <td>3</td>\n",
       "      <td>NaN</td>\n",
       "      <td>0</td>\n",
       "      <td>0</td>\n",
       "      <td>NaN</td>\n",
       "      <td>...</td>\n",
       "      <td>for free</td>\n",
       "      <td>4</td>\n",
       "      <td>skilled employee / official</td>\n",
       "      <td>1 year</td>\n",
       "      <td>4 years</td>\n",
       "      <td>NaN</td>\n",
       "      <td>1</td>\n",
       "      <td>Low</td>\n",
       "      <td>NaN</td>\n",
       "      <td>0</td>\n",
       "    </tr>\n",
       "  </tbody>\n",
       "</table>\n",
       "<p>5 rows × 27 columns</p>\n",
       "</div>"
      ],
      "text/plain": [
       "                    loan_application_id  applicant_id  Months_loan_taken_for  \\\n",
       "0  d68d975e-edad-11ea-8761-1d6f9c1ff461       1469590                      6   \n",
       "1  d68d989e-edad-11ea-b1d5-2bcf65006448       1203873                     48   \n",
       "2  d68d995c-edad-11ea-814a-1b6716782575       1432761                     12   \n",
       "3  d68d99fc-edad-11ea-8841-17e8848060ae       1207582                     42   \n",
       "4  d68d9a92-edad-11ea-9f3d-1f8682db006a       1674436                     24   \n",
       "\n",
       "                Purpose  Principal_loan_amount  \\\n",
       "0  electronic equipment                1169000   \n",
       "1  electronic equipment                5951000   \n",
       "2             education                2096000   \n",
       "3                  FF&E                7882000   \n",
       "4           new vehicle                4870000   \n",
       "\n",
       "   EMI_rate_in_percentage_of_disposable_income  \\\n",
       "0                                            4   \n",
       "1                                            2   \n",
       "2                                            2   \n",
       "3                                            2   \n",
       "4                                            3   \n",
       "\n",
       "                                            Property  Has_coapplicant  \\\n",
       "0                                        real estate                0   \n",
       "1                                        real estate                0   \n",
       "2                                        real estate                0   \n",
       "3  building society savings agreement/life insurance                0   \n",
       "4                                                NaN                0   \n",
       "\n",
       "   Has_guarantor Other_EMI_plans  ...   Housing Years_at_current_residence  \\\n",
       "0              0             NaN  ...       own                          4   \n",
       "1              0             NaN  ...       own                          2   \n",
       "2              0             NaN  ...       own                          3   \n",
       "3              1             NaN  ...  for free                          4   \n",
       "4              0             NaN  ...  for free                          4   \n",
       "\n",
       "             Employment_status  Has_been_employed_for_at_least  \\\n",
       "0  skilled employee / official                         7 years   \n",
       "1  skilled employee / official                          1 year   \n",
       "2         unskilled - resident                         4 years   \n",
       "3  skilled employee / official                         4 years   \n",
       "4  skilled employee / official                          1 year   \n",
       "\n",
       "  Has_been_employed_for_at_most                              Telephone  \\\n",
       "0                           NaN  Registered under the applicant's name   \n",
       "1                       4 years                                    NaN   \n",
       "2                       7 years                                    NaN   \n",
       "3                       7 years                                    NaN   \n",
       "4                       4 years                                    NaN   \n",
       "\n",
       "   Foreign_worker Savings_account_balance  \\\n",
       "0               1                     NaN   \n",
       "1               1                     Low   \n",
       "2               1                     Low   \n",
       "3               1                     Low   \n",
       "4               1                     Low   \n",
       "\n",
       "   Balance_in_existing_bank_account_(lower_limit_of_bucket)  \\\n",
       "0                                                NaN          \n",
       "1                                                  0          \n",
       "2                                                NaN          \n",
       "3                                                NaN          \n",
       "4                                                NaN          \n",
       "\n",
       "  Balance_in_existing_bank_account_(upper_limit_of_bucket)  \n",
       "0                                                  0        \n",
       "1                                              2 lac        \n",
       "2                                                NaN        \n",
       "3                                                  0        \n",
       "4                                                  0        \n",
       "\n",
       "[5 rows x 27 columns]"
      ]
     },
     "execution_count": 6,
     "metadata": {},
     "output_type": "execute_result"
    }
   ],
   "source": [
    "df.head()"
   ]
  },
  {
   "cell_type": "code",
   "execution_count": 7,
   "metadata": {},
   "outputs": [
    {
     "data": {
      "text/plain": [
       "(1000, 27)"
      ]
     },
     "execution_count": 7,
     "metadata": {},
     "output_type": "execute_result"
    }
   ],
   "source": [
    "df.shape #shape of the dataset"
   ]
  },
  {
   "cell_type": "code",
   "execution_count": 8,
   "metadata": {},
   "outputs": [
    {
     "name": "stdout",
     "output_type": "stream",
     "text": [
      "<class 'pandas.core.frame.DataFrame'>\n",
      "Int64Index: 1000 entries, 0 to 999\n",
      "Data columns (total 27 columns):\n",
      " #   Column                                                    Non-Null Count  Dtype \n",
      "---  ------                                                    --------------  ----- \n",
      " 0   loan_application_id                                       1000 non-null   object\n",
      " 1   applicant_id                                              1000 non-null   int64 \n",
      " 2   Months_loan_taken_for                                     1000 non-null   int64 \n",
      " 3   Purpose                                                   988 non-null    object\n",
      " 4   Principal_loan_amount                                     1000 non-null   int64 \n",
      " 5   EMI_rate_in_percentage_of_disposable_income               1000 non-null   int64 \n",
      " 6   Property                                                  846 non-null    object\n",
      " 7   Has_coapplicant                                           1000 non-null   int64 \n",
      " 8   Has_guarantor                                             1000 non-null   int64 \n",
      " 9   Other_EMI_plans                                           186 non-null    object\n",
      " 10  Number_of_existing_loans_at_this_bank                     1000 non-null   int64 \n",
      " 11  Loan_history                                              1000 non-null   object\n",
      " 12  high_risk_applicant                                       1000 non-null   int64 \n",
      " 13  Primary_applicant_age_in_years                            1000 non-null   int64 \n",
      " 14  Gender                                                    1000 non-null   object\n",
      " 15  Marital_status                                            1000 non-null   object\n",
      " 16  Number_of_dependents                                      1000 non-null   int64 \n",
      " 17  Housing                                                   1000 non-null   object\n",
      " 18  Years_at_current_residence                                1000 non-null   int64 \n",
      " 19  Employment_status                                         1000 non-null   object\n",
      " 20  Has_been_employed_for_at_least                            938 non-null    object\n",
      " 21  Has_been_employed_for_at_most                             747 non-null    object\n",
      " 22  Telephone                                                 404 non-null    object\n",
      " 23  Foreign_worker                                            1000 non-null   int64 \n",
      " 24  Savings_account_balance                                   817 non-null    object\n",
      " 25  Balance_in_existing_bank_account_(lower_limit_of_bucket)  332 non-null    object\n",
      " 26  Balance_in_existing_bank_account_(upper_limit_of_bucket)  543 non-null    object\n",
      "dtypes: int64(12), object(15)\n",
      "memory usage: 218.8+ KB\n"
     ]
    }
   ],
   "source": [
    "df.info() #information of the dataset"
   ]
  },
  {
   "cell_type": "code",
   "execution_count": 9,
   "metadata": {},
   "outputs": [],
   "source": [
    "#some of colomns are having some nullvalues like Purpose,Property,Other_EMI_plans and more,,, \"Other_EMI_plans\" colomn has more than 50% null value so i will remove that collomn"
   ]
  },
  {
   "cell_type": "code",
   "execution_count": 10,
   "metadata": {},
   "outputs": [
    {
     "data": {
      "text/html": [
       "<div>\n",
       "<style scoped>\n",
       "    .dataframe tbody tr th:only-of-type {\n",
       "        vertical-align: middle;\n",
       "    }\n",
       "\n",
       "    .dataframe tbody tr th {\n",
       "        vertical-align: top;\n",
       "    }\n",
       "\n",
       "    .dataframe thead th {\n",
       "        text-align: right;\n",
       "    }\n",
       "</style>\n",
       "<table border=\"1\" class=\"dataframe\">\n",
       "  <thead>\n",
       "    <tr style=\"text-align: right;\">\n",
       "      <th></th>\n",
       "      <th>applicant_id</th>\n",
       "      <th>Months_loan_taken_for</th>\n",
       "      <th>Principal_loan_amount</th>\n",
       "      <th>EMI_rate_in_percentage_of_disposable_income</th>\n",
       "      <th>Has_coapplicant</th>\n",
       "      <th>Has_guarantor</th>\n",
       "      <th>Number_of_existing_loans_at_this_bank</th>\n",
       "      <th>high_risk_applicant</th>\n",
       "      <th>Primary_applicant_age_in_years</th>\n",
       "      <th>Number_of_dependents</th>\n",
       "      <th>Years_at_current_residence</th>\n",
       "      <th>Foreign_worker</th>\n",
       "    </tr>\n",
       "  </thead>\n",
       "  <tbody>\n",
       "    <tr>\n",
       "      <th>count</th>\n",
       "      <td>1.000000e+03</td>\n",
       "      <td>1000.000000</td>\n",
       "      <td>1.000000e+03</td>\n",
       "      <td>1000.000000</td>\n",
       "      <td>1000.000000</td>\n",
       "      <td>1000.000000</td>\n",
       "      <td>1000.000000</td>\n",
       "      <td>1000.000000</td>\n",
       "      <td>1000.000000</td>\n",
       "      <td>1000.000000</td>\n",
       "      <td>1000.000000</td>\n",
       "      <td>1000.000000</td>\n",
       "    </tr>\n",
       "    <tr>\n",
       "      <th>mean</th>\n",
       "      <td>1.514763e+06</td>\n",
       "      <td>20.903000</td>\n",
       "      <td>3.271258e+06</td>\n",
       "      <td>2.973000</td>\n",
       "      <td>0.041000</td>\n",
       "      <td>0.052000</td>\n",
       "      <td>1.407000</td>\n",
       "      <td>0.300000</td>\n",
       "      <td>35.546000</td>\n",
       "      <td>1.155000</td>\n",
       "      <td>2.845000</td>\n",
       "      <td>0.963000</td>\n",
       "    </tr>\n",
       "    <tr>\n",
       "      <th>std</th>\n",
       "      <td>2.286764e+05</td>\n",
       "      <td>12.058814</td>\n",
       "      <td>2.822737e+06</td>\n",
       "      <td>1.118715</td>\n",
       "      <td>0.198389</td>\n",
       "      <td>0.222138</td>\n",
       "      <td>0.577654</td>\n",
       "      <td>0.458487</td>\n",
       "      <td>11.375469</td>\n",
       "      <td>0.362086</td>\n",
       "      <td>1.103718</td>\n",
       "      <td>0.188856</td>\n",
       "    </tr>\n",
       "    <tr>\n",
       "      <th>min</th>\n",
       "      <td>1.105364e+06</td>\n",
       "      <td>4.000000</td>\n",
       "      <td>2.500000e+05</td>\n",
       "      <td>1.000000</td>\n",
       "      <td>0.000000</td>\n",
       "      <td>0.000000</td>\n",
       "      <td>1.000000</td>\n",
       "      <td>0.000000</td>\n",
       "      <td>19.000000</td>\n",
       "      <td>1.000000</td>\n",
       "      <td>1.000000</td>\n",
       "      <td>0.000000</td>\n",
       "    </tr>\n",
       "    <tr>\n",
       "      <th>25%</th>\n",
       "      <td>1.321398e+06</td>\n",
       "      <td>12.000000</td>\n",
       "      <td>1.365500e+06</td>\n",
       "      <td>2.000000</td>\n",
       "      <td>0.000000</td>\n",
       "      <td>0.000000</td>\n",
       "      <td>1.000000</td>\n",
       "      <td>0.000000</td>\n",
       "      <td>27.000000</td>\n",
       "      <td>1.000000</td>\n",
       "      <td>2.000000</td>\n",
       "      <td>1.000000</td>\n",
       "    </tr>\n",
       "    <tr>\n",
       "      <th>50%</th>\n",
       "      <td>1.529114e+06</td>\n",
       "      <td>18.000000</td>\n",
       "      <td>2.319500e+06</td>\n",
       "      <td>3.000000</td>\n",
       "      <td>0.000000</td>\n",
       "      <td>0.000000</td>\n",
       "      <td>1.000000</td>\n",
       "      <td>0.000000</td>\n",
       "      <td>33.000000</td>\n",
       "      <td>1.000000</td>\n",
       "      <td>3.000000</td>\n",
       "      <td>1.000000</td>\n",
       "    </tr>\n",
       "    <tr>\n",
       "      <th>75%</th>\n",
       "      <td>1.707752e+06</td>\n",
       "      <td>24.000000</td>\n",
       "      <td>3.972250e+06</td>\n",
       "      <td>4.000000</td>\n",
       "      <td>0.000000</td>\n",
       "      <td>0.000000</td>\n",
       "      <td>2.000000</td>\n",
       "      <td>1.000000</td>\n",
       "      <td>42.000000</td>\n",
       "      <td>1.000000</td>\n",
       "      <td>4.000000</td>\n",
       "      <td>1.000000</td>\n",
       "    </tr>\n",
       "    <tr>\n",
       "      <th>max</th>\n",
       "      <td>1.903505e+06</td>\n",
       "      <td>72.000000</td>\n",
       "      <td>1.842400e+07</td>\n",
       "      <td>4.000000</td>\n",
       "      <td>1.000000</td>\n",
       "      <td>1.000000</td>\n",
       "      <td>4.000000</td>\n",
       "      <td>1.000000</td>\n",
       "      <td>75.000000</td>\n",
       "      <td>2.000000</td>\n",
       "      <td>4.000000</td>\n",
       "      <td>1.000000</td>\n",
       "    </tr>\n",
       "  </tbody>\n",
       "</table>\n",
       "</div>"
      ],
      "text/plain": [
       "       applicant_id  Months_loan_taken_for  Principal_loan_amount  \\\n",
       "count  1.000000e+03            1000.000000           1.000000e+03   \n",
       "mean   1.514763e+06              20.903000           3.271258e+06   \n",
       "std    2.286764e+05              12.058814           2.822737e+06   \n",
       "min    1.105364e+06               4.000000           2.500000e+05   \n",
       "25%    1.321398e+06              12.000000           1.365500e+06   \n",
       "50%    1.529114e+06              18.000000           2.319500e+06   \n",
       "75%    1.707752e+06              24.000000           3.972250e+06   \n",
       "max    1.903505e+06              72.000000           1.842400e+07   \n",
       "\n",
       "       EMI_rate_in_percentage_of_disposable_income  Has_coapplicant  \\\n",
       "count                                  1000.000000      1000.000000   \n",
       "mean                                      2.973000         0.041000   \n",
       "std                                       1.118715         0.198389   \n",
       "min                                       1.000000         0.000000   \n",
       "25%                                       2.000000         0.000000   \n",
       "50%                                       3.000000         0.000000   \n",
       "75%                                       4.000000         0.000000   \n",
       "max                                       4.000000         1.000000   \n",
       "\n",
       "       Has_guarantor  Number_of_existing_loans_at_this_bank  \\\n",
       "count    1000.000000                            1000.000000   \n",
       "mean        0.052000                               1.407000   \n",
       "std         0.222138                               0.577654   \n",
       "min         0.000000                               1.000000   \n",
       "25%         0.000000                               1.000000   \n",
       "50%         0.000000                               1.000000   \n",
       "75%         0.000000                               2.000000   \n",
       "max         1.000000                               4.000000   \n",
       "\n",
       "       high_risk_applicant  Primary_applicant_age_in_years  \\\n",
       "count          1000.000000                     1000.000000   \n",
       "mean              0.300000                       35.546000   \n",
       "std               0.458487                       11.375469   \n",
       "min               0.000000                       19.000000   \n",
       "25%               0.000000                       27.000000   \n",
       "50%               0.000000                       33.000000   \n",
       "75%               1.000000                       42.000000   \n",
       "max               1.000000                       75.000000   \n",
       "\n",
       "       Number_of_dependents  Years_at_current_residence  Foreign_worker  \n",
       "count           1000.000000                 1000.000000     1000.000000  \n",
       "mean               1.155000                    2.845000        0.963000  \n",
       "std                0.362086                    1.103718        0.188856  \n",
       "min                1.000000                    1.000000        0.000000  \n",
       "25%                1.000000                    2.000000        1.000000  \n",
       "50%                1.000000                    3.000000        1.000000  \n",
       "75%                1.000000                    4.000000        1.000000  \n",
       "max                2.000000                    4.000000        1.000000  "
      ]
     },
     "execution_count": 10,
     "metadata": {},
     "output_type": "execute_result"
    }
   ],
   "source": [
    "df.describe()"
   ]
  },
  {
   "cell_type": "code",
   "execution_count": 11,
   "metadata": {},
   "outputs": [],
   "source": [
    "#this is information of dataset's mean, std , min, perceltile etc "
   ]
  },
  {
   "cell_type": "code",
   "execution_count": 12,
   "metadata": {},
   "outputs": [
    {
     "data": {
      "text/plain": [
       "0"
      ]
     },
     "execution_count": 12,
     "metadata": {},
     "output_type": "execute_result"
    }
   ],
   "source": [
    "df.duplicated().sum()"
   ]
  },
  {
   "cell_type": "code",
   "execution_count": 13,
   "metadata": {},
   "outputs": [],
   "source": [
    "#this dataset have no duplicate value this is the good thing"
   ]
  },
  {
   "cell_type": "code",
   "execution_count": 14,
   "metadata": {},
   "outputs": [
    {
     "data": {
      "text/plain": [
       "loan_application_id                                           0\n",
       "applicant_id                                                  0\n",
       "Months_loan_taken_for                                         0\n",
       "Purpose                                                      12\n",
       "Principal_loan_amount                                         0\n",
       "EMI_rate_in_percentage_of_disposable_income                   0\n",
       "Property                                                    154\n",
       "Has_coapplicant                                               0\n",
       "Has_guarantor                                                 0\n",
       "Other_EMI_plans                                             814\n",
       "Number_of_existing_loans_at_this_bank                         0\n",
       "Loan_history                                                  0\n",
       "high_risk_applicant                                           0\n",
       "Primary_applicant_age_in_years                                0\n",
       "Gender                                                        0\n",
       "Marital_status                                                0\n",
       "Number_of_dependents                                          0\n",
       "Housing                                                       0\n",
       "Years_at_current_residence                                    0\n",
       "Employment_status                                             0\n",
       "Has_been_employed_for_at_least                               62\n",
       "Has_been_employed_for_at_most                               253\n",
       "Telephone                                                   596\n",
       "Foreign_worker                                                0\n",
       "Savings_account_balance                                     183\n",
       "Balance_in_existing_bank_account_(lower_limit_of_bucket)    668\n",
       "Balance_in_existing_bank_account_(upper_limit_of_bucket)    457\n",
       "dtype: int64"
      ]
     },
     "execution_count": 14,
     "metadata": {},
     "output_type": "execute_result"
    }
   ],
   "source": [
    "df.isnull().sum()"
   ]
  },
  {
   "cell_type": "code",
   "execution_count": 15,
   "metadata": {},
   "outputs": [],
   "source": [
    "#here we can see there are some null value so i will replace the null value with their mean(if the columns are numerical) and mode(if the columns are cetagorical).and remove some columns which have 50% or more than 50% null value  "
   ]
  },
  {
   "cell_type": "code",
   "execution_count": 16,
   "metadata": {},
   "outputs": [
    {
     "data": {
      "text/plain": [
       "<matplotlib.axes._subplots.AxesSubplot at 0x19c2c320>"
      ]
     },
     "execution_count": 16,
     "metadata": {},
     "output_type": "execute_result"
    },
    {
     "data": {
      "image/png": "[encoded data removed]",
      "text/plain": [
       "<Figure size 432x288 with 1 Axes>"
      ]
     },
     "metadata": {
      "needs_background": "light"
     },
     "output_type": "display_data"
    }
   ],
   "source": [
    "df['Purpose'].value_counts().plot(kind='bar')"
   ]
  },
  {
   "cell_type": "code",
   "execution_count": 17,
   "metadata": {},
   "outputs": [],
   "source": [
    "#Purpose columns is categorical so i will replace the null value with there mode"
   ]
  },
  {
   "cell_type": "code",
   "execution_count": 18,
   "metadata": {},
   "outputs": [],
   "source": [
    "df['Purpose'].fillna(df['Purpose'].mode()[0],inplace=True)"
   ]
  },
  {
   "cell_type": "code",
   "execution_count": 19,
   "metadata": {},
   "outputs": [
    {
     "data": {
      "text/plain": [
       "<matplotlib.axes._subplots.AxesSubplot at 0x19c2c390>"
      ]
     },
     "execution_count": 19,
     "metadata": {},
     "output_type": "execute_result"
    },
    {
     "data": {
      "image/png": "[encoded data removed]",
      "text/plain": [
       "<Figure size 432x288 with 1 Axes>"
      ]
     },
     "metadata": {
      "needs_background": "light"
     },
     "output_type": "display_data"
    }
   ],
   "source": [
    "df['Property'].value_counts().plot(kind='bar')"
   ]
  },
  {
   "cell_type": "code",
   "execution_count": 20,
   "metadata": {},
   "outputs": [],
   "source": [
    "#Property columns is also categorical so i will replace the null value with there mode"
   ]
  },
  {
   "cell_type": "code",
   "execution_count": 21,
   "metadata": {},
   "outputs": [],
   "source": [
    "df['Property'].fillna(df['Property'].mode()[0],inplace=True)"
   ]
  },
  {
   "cell_type": "code",
   "execution_count": 22,
   "metadata": {},
   "outputs": [
    {
     "data": {
      "text/plain": [
       "<matplotlib.axes._subplots.AxesSubplot at 0x19d60160>"
      ]
     },
     "execution_count": 22,
     "metadata": {},
     "output_type": "execute_result"
    },
    {
     "data": {
      "image/png": "[encoded data removed]",
      "text/plain": [
       "<Figure size 432x288 with 1 Axes>"
      ]
     },
     "metadata": {
      "needs_background": "light"
     },
     "output_type": "display_data"
    }
   ],
   "source": [
    "df['Has_been_employed_for_at_least'].value_counts().plot(kind='bar')"
   ]
  },
  {
   "cell_type": "code",
   "execution_count": 23,
   "metadata": {},
   "outputs": [],
   "source": [
    "#'Has_been_employed_for_at_least' columns is also categorical so i will replace the null value with there mode"
   ]
  },
  {
   "cell_type": "code",
   "execution_count": 24,
   "metadata": {},
   "outputs": [],
   "source": [
    "df['Has_been_employed_for_at_least'].fillna(df['Has_been_employed_for_at_least'].mode()[0],inplace=True)"
   ]
  },
  {
   "cell_type": "code",
   "execution_count": 25,
   "metadata": {},
   "outputs": [
    {
     "data": {
      "text/plain": [
       "<matplotlib.axes._subplots.AxesSubplot at 0x19dca320>"
      ]
     },
     "execution_count": 25,
     "metadata": {},
     "output_type": "execute_result"
    },
    {
     "data": {
      "image/png": "[encoded data removed]",
      "text/plain": [
       "<Figure size 432x288 with 1 Axes>"
      ]
     },
     "metadata": {
      "needs_background": "light"
     },
     "output_type": "display_data"
    }
   ],
   "source": [
    "df['Has_been_employed_for_at_most'].value_counts().plot(kind='bar')"
   ]
  },
  {
   "cell_type": "code",
   "execution_count": 26,
   "metadata": {},
   "outputs": [],
   "source": [
    "df['Has_been_employed_for_at_most'].fillna(df['Has_been_employed_for_at_most'].mode()[0],inplace=True)"
   ]
  },
  {
   "cell_type": "code",
   "execution_count": 27,
   "metadata": {},
   "outputs": [
    {
     "data": {
      "text/plain": [
       "<matplotlib.axes._subplots.AxesSubplot at 0x19cdd860>"
      ]
     },
     "execution_count": 27,
     "metadata": {},
     "output_type": "execute_result"
    },
    {
     "data": {
      "image/png": "[encoded data removed]",
      "text/plain": [
       "<Figure size 432x288 with 1 Axes>"
      ]
     },
     "metadata": {
      "needs_background": "light"
     },
     "output_type": "display_data"
    }
   ],
   "source": [
    "df['Property'].value_counts().plot(kind='bar')"
   ]
  },
  {
   "cell_type": "code",
   "execution_count": 28,
   "metadata": {},
   "outputs": [],
   "source": [
    "df['Property'].fillna(df['Property'].mode()[0],inplace=True)"
   ]
  },
  {
   "cell_type": "code",
   "execution_count": 29,
   "metadata": {},
   "outputs": [
    {
     "data": {
      "text/plain": [
       "<matplotlib.axes._subplots.AxesSubplot at 0x19e78080>"
      ]
     },
     "execution_count": 29,
     "metadata": {},
     "output_type": "execute_result"
    },
    {
     "data": {
      "image/png": "[encoded data removed]",
      "text/plain": [
       "<Figure size 432x288 with 1 Axes>"
      ]
     },
     "metadata": {
      "needs_background": "light"
     },
     "output_type": "display_data"
    }
   ],
   "source": [
    "df['Savings_account_balance'].value_counts().plot(kind='bar')"
   ]
  },
  {
   "cell_type": "code",
   "execution_count": 30,
   "metadata": {},
   "outputs": [],
   "source": [
    "df['Savings_account_balance'].fillna(df['Savings_account_balance'].mode()[0],inplace=True)"
   ]
  },
  {
   "cell_type": "code",
   "execution_count": 31,
   "metadata": {},
   "outputs": [],
   "source": [
    "#in above all the columns are categorical.thats why i replaced the null value with there mode"
   ]
  },
  {
   "cell_type": "code",
   "execution_count": 32,
   "metadata": {},
   "outputs": [],
   "source": [
    "df.drop(columns=['loan_application_id'],inplace=True)\n",
    "df.drop(columns=['applicant_id'],inplace=True)\n",
    "#this two columns has not a good relation with our terget variable so i decided to drop this two columns"
   ]
  },
  {
   "cell_type": "code",
   "execution_count": 33,
   "metadata": {},
   "outputs": [
    {
     "data": {
      "text/html": [
       "<div>\n",
       "<style scoped>\n",
       "    .dataframe tbody tr th:only-of-type {\n",
       "        vertical-align: middle;\n",
       "    }\n",
       "\n",
       "    .dataframe tbody tr th {\n",
       "        vertical-align: top;\n",
       "    }\n",
       "\n",
       "    .dataframe thead th {\n",
       "        text-align: right;\n",
       "    }\n",
       "</style>\n",
       "<table border=\"1\" class=\"dataframe\">\n",
       "  <thead>\n",
       "    <tr style=\"text-align: right;\">\n",
       "      <th></th>\n",
       "      <th>Months_loan_taken_for</th>\n",
       "      <th>Purpose</th>\n",
       "      <th>Principal_loan_amount</th>\n",
       "      <th>EMI_rate_in_percentage_of_disposable_income</th>\n",
       "      <th>Property</th>\n",
       "      <th>Has_coapplicant</th>\n",
       "      <th>Has_guarantor</th>\n",
       "      <th>Other_EMI_plans</th>\n",
       "      <th>Number_of_existing_loans_at_this_bank</th>\n",
       "      <th>Loan_history</th>\n",
       "      <th>...</th>\n",
       "      <th>Housing</th>\n",
       "      <th>Years_at_current_residence</th>\n",
       "      <th>Employment_status</th>\n",
       "      <th>Has_been_employed_for_at_least</th>\n",
       "      <th>Has_been_employed_for_at_most</th>\n",
       "      <th>Telephone</th>\n",
       "      <th>Foreign_worker</th>\n",
       "      <th>Savings_account_balance</th>\n",
       "      <th>Balance_in_existing_bank_account_(lower_limit_of_bucket)</th>\n",
       "      <th>Balance_in_existing_bank_account_(upper_limit_of_bucket)</th>\n",
       "    </tr>\n",
       "  </thead>\n",
       "  <tbody>\n",
       "    <tr>\n",
       "      <th>0</th>\n",
       "      <td>6</td>\n",
       "      <td>electronic equipment</td>\n",
       "      <td>1169000</td>\n",
       "      <td>4</td>\n",
       "      <td>real estate</td>\n",
       "      <td>0</td>\n",
       "      <td>0</td>\n",
       "      <td>NaN</td>\n",
       "      <td>2</td>\n",
       "      <td>critical/pending loans at other banks</td>\n",
       "      <td>...</td>\n",
       "      <td>own</td>\n",
       "      <td>4</td>\n",
       "      <td>skilled employee / official</td>\n",
       "      <td>7 years</td>\n",
       "      <td>4 years</td>\n",
       "      <td>Registered under the applicant's name</td>\n",
       "      <td>1</td>\n",
       "      <td>Low</td>\n",
       "      <td>NaN</td>\n",
       "      <td>0</td>\n",
       "    </tr>\n",
       "    <tr>\n",
       "      <th>1</th>\n",
       "      <td>48</td>\n",
       "      <td>electronic equipment</td>\n",
       "      <td>5951000</td>\n",
       "      <td>2</td>\n",
       "      <td>real estate</td>\n",
       "      <td>0</td>\n",
       "      <td>0</td>\n",
       "      <td>NaN</td>\n",
       "      <td>1</td>\n",
       "      <td>existing loans paid back duly till now</td>\n",
       "      <td>...</td>\n",
       "      <td>own</td>\n",
       "      <td>2</td>\n",
       "      <td>skilled employee / official</td>\n",
       "      <td>1 year</td>\n",
       "      <td>4 years</td>\n",
       "      <td>NaN</td>\n",
       "      <td>1</td>\n",
       "      <td>Low</td>\n",
       "      <td>0</td>\n",
       "      <td>2 lac</td>\n",
       "    </tr>\n",
       "    <tr>\n",
       "      <th>2</th>\n",
       "      <td>12</td>\n",
       "      <td>education</td>\n",
       "      <td>2096000</td>\n",
       "      <td>2</td>\n",
       "      <td>real estate</td>\n",
       "      <td>0</td>\n",
       "      <td>0</td>\n",
       "      <td>NaN</td>\n",
       "      <td>1</td>\n",
       "      <td>critical/pending loans at other banks</td>\n",
       "      <td>...</td>\n",
       "      <td>own</td>\n",
       "      <td>3</td>\n",
       "      <td>unskilled - resident</td>\n",
       "      <td>4 years</td>\n",
       "      <td>7 years</td>\n",
       "      <td>NaN</td>\n",
       "      <td>1</td>\n",
       "      <td>Low</td>\n",
       "      <td>NaN</td>\n",
       "      <td>NaN</td>\n",
       "    </tr>\n",
       "    <tr>\n",
       "      <th>3</th>\n",
       "      <td>42</td>\n",
       "      <td>FF&amp;E</td>\n",
       "      <td>7882000</td>\n",
       "      <td>2</td>\n",
       "      <td>building society savings agreement/life insurance</td>\n",
       "      <td>0</td>\n",
       "      <td>1</td>\n",
       "      <td>NaN</td>\n",
       "      <td>1</td>\n",
       "      <td>existing loans paid back duly till now</td>\n",
       "      <td>...</td>\n",
       "      <td>for free</td>\n",
       "      <td>4</td>\n",
       "      <td>skilled employee / official</td>\n",
       "      <td>4 years</td>\n",
       "      <td>7 years</td>\n",
       "      <td>NaN</td>\n",
       "      <td>1</td>\n",
       "      <td>Low</td>\n",
       "      <td>NaN</td>\n",
       "      <td>0</td>\n",
       "    </tr>\n",
       "    <tr>\n",
       "      <th>4</th>\n",
       "      <td>24</td>\n",
       "      <td>new vehicle</td>\n",
       "      <td>4870000</td>\n",
       "      <td>3</td>\n",
       "      <td>car or other</td>\n",
       "      <td>0</td>\n",
       "      <td>0</td>\n",
       "      <td>NaN</td>\n",
       "      <td>2</td>\n",
       "      <td>delay in paying off loans in the past</td>\n",
       "      <td>...</td>\n",
       "      <td>for free</td>\n",
       "      <td>4</td>\n",
       "      <td>skilled employee / official</td>\n",
       "      <td>1 year</td>\n",
       "      <td>4 years</td>\n",
       "      <td>NaN</td>\n",
       "      <td>1</td>\n",
       "      <td>Low</td>\n",
       "      <td>NaN</td>\n",
       "      <td>0</td>\n",
       "    </tr>\n",
       "  </tbody>\n",
       "</table>\n",
       "<p>5 rows × 25 columns</p>\n",
       "</div>"
      ],
      "text/plain": [
       "   Months_loan_taken_for               Purpose  Principal_loan_amount  \\\n",
       "0                      6  electronic equipment                1169000   \n",
       "1                     48  electronic equipment                5951000   \n",
       "2                     12             education                2096000   \n",
       "3                     42                  FF&E                7882000   \n",
       "4                     24           new vehicle                4870000   \n",
       "\n",
       "   EMI_rate_in_percentage_of_disposable_income  \\\n",
       "0                                            4   \n",
       "1                                            2   \n",
       "2                                            2   \n",
       "3                                            2   \n",
       "4                                            3   \n",
       "\n",
       "                                            Property  Has_coapplicant  \\\n",
       "0                                        real estate                0   \n",
       "1                                        real estate                0   \n",
       "2                                        real estate                0   \n",
       "3  building society savings agreement/life insurance                0   \n",
       "4                                       car or other                0   \n",
       "\n",
       "   Has_guarantor Other_EMI_plans  Number_of_existing_loans_at_this_bank  \\\n",
       "0              0             NaN                                      2   \n",
       "1              0             NaN                                      1   \n",
       "2              0             NaN                                      1   \n",
       "3              1             NaN                                      1   \n",
       "4              0             NaN                                      2   \n",
       "\n",
       "                             Loan_history  ...   Housing  \\\n",
       "0   critical/pending loans at other banks  ...       own   \n",
       "1  existing loans paid back duly till now  ...       own   \n",
       "2   critical/pending loans at other banks  ...       own   \n",
       "3  existing loans paid back duly till now  ...  for free   \n",
       "4   delay in paying off loans in the past  ...  for free   \n",
       "\n",
       "   Years_at_current_residence            Employment_status  \\\n",
       "0                           4  skilled employee / official   \n",
       "1                           2  skilled employee / official   \n",
       "2                           3         unskilled - resident   \n",
       "3                           4  skilled employee / official   \n",
       "4                           4  skilled employee / official   \n",
       "\n",
       "  Has_been_employed_for_at_least  Has_been_employed_for_at_most  \\\n",
       "0                        7 years                        4 years   \n",
       "1                         1 year                        4 years   \n",
       "2                        4 years                        7 years   \n",
       "3                        4 years                        7 years   \n",
       "4                         1 year                        4 years   \n",
       "\n",
       "                               Telephone  Foreign_worker  \\\n",
       "0  Registered under the applicant's name               1   \n",
       "1                                    NaN               1   \n",
       "2                                    NaN               1   \n",
       "3                                    NaN               1   \n",
       "4                                    NaN               1   \n",
       "\n",
       "  Savings_account_balance  \\\n",
       "0                     Low   \n",
       "1                     Low   \n",
       "2                     Low   \n",
       "3                     Low   \n",
       "4                     Low   \n",
       "\n",
       "  Balance_in_existing_bank_account_(lower_limit_of_bucket)  \\\n",
       "0                                                NaN         \n",
       "1                                                  0         \n",
       "2                                                NaN         \n",
       "3                                                NaN         \n",
       "4                                                NaN         \n",
       "\n",
       "  Balance_in_existing_bank_account_(upper_limit_of_bucket)  \n",
       "0                                                  0        \n",
       "1                                              2 lac        \n",
       "2                                                NaN        \n",
       "3                                                  0        \n",
       "4                                                  0        \n",
       "\n",
       "[5 rows x 25 columns]"
      ]
     },
     "execution_count": 33,
     "metadata": {},
     "output_type": "execute_result"
    }
   ],
   "source": [
    "df.head() #now this is our data (25 columns)"
   ]
  },
  {
   "cell_type": "code",
   "execution_count": 34,
   "metadata": {},
   "outputs": [
    {
     "data": {
      "text/plain": [
       "Months_loan_taken_for                                         0\n",
       "Purpose                                                       0\n",
       "Principal_loan_amount                                         0\n",
       "EMI_rate_in_percentage_of_disposable_income                   0\n",
       "Property                                                      0\n",
       "Has_coapplicant                                               0\n",
       "Has_guarantor                                                 0\n",
       "Other_EMI_plans                                             814\n",
       "Number_of_existing_loans_at_this_bank                         0\n",
       "Loan_history                                                  0\n",
       "high_risk_applicant                                           0\n",
       "Primary_applicant_age_in_years                                0\n",
       "Gender                                                        0\n",
       "Marital_status                                                0\n",
       "Number_of_dependents                                          0\n",
       "Housing                                                       0\n",
       "Years_at_current_residence                                    0\n",
       "Employment_status                                             0\n",
       "Has_been_employed_for_at_least                                0\n",
       "Has_been_employed_for_at_most                                 0\n",
       "Telephone                                                   596\n",
       "Foreign_worker                                                0\n",
       "Savings_account_balance                                       0\n",
       "Balance_in_existing_bank_account_(lower_limit_of_bucket)    668\n",
       "Balance_in_existing_bank_account_(upper_limit_of_bucket)    457\n",
       "dtype: int64"
      ]
     },
     "execution_count": 34,
     "metadata": {},
     "output_type": "execute_result"
    }
   ],
   "source": [
    "df.isnull().sum() #so here 4 columns has 50% or more than 50% null value so i will drop those columns"
   ]
  },
  {
   "cell_type": "code",
   "execution_count": 35,
   "metadata": {},
   "outputs": [],
   "source": [
    "df.drop(columns=['Other_EMI_plans'],inplace=True)\n",
    "df.drop(columns=['Telephone'],inplace=True)\n",
    "df.drop(columns=['Balance_in_existing_bank_account_(lower_limit_of_bucket)'],inplace=True)\n",
    "df.drop(columns=['Balance_in_existing_bank_account_(upper_limit_of_bucket)'],inplace=True)"
   ]
  },
  {
   "cell_type": "code",
   "execution_count": 36,
   "metadata": {},
   "outputs": [
    {
     "data": {
      "text/html": [
       "<div>\n",
       "<style scoped>\n",
       "    .dataframe tbody tr th:only-of-type {\n",
       "        vertical-align: middle;\n",
       "    }\n",
       "\n",
       "    .dataframe tbody tr th {\n",
       "        vertical-align: top;\n",
       "    }\n",
       "\n",
       "    .dataframe thead th {\n",
       "        text-align: right;\n",
       "    }\n",
       "</style>\n",
       "<table border=\"1\" class=\"dataframe\">\n",
       "  <thead>\n",
       "    <tr style=\"text-align: right;\">\n",
       "      <th></th>\n",
       "      <th>Months_loan_taken_for</th>\n",
       "      <th>Purpose</th>\n",
       "      <th>Principal_loan_amount</th>\n",
       "      <th>EMI_rate_in_percentage_of_disposable_income</th>\n",
       "      <th>Property</th>\n",
       "      <th>Has_coapplicant</th>\n",
       "      <th>Has_guarantor</th>\n",
       "      <th>Number_of_existing_loans_at_this_bank</th>\n",
       "      <th>Loan_history</th>\n",
       "      <th>high_risk_applicant</th>\n",
       "      <th>...</th>\n",
       "      <th>Gender</th>\n",
       "      <th>Marital_status</th>\n",
       "      <th>Number_of_dependents</th>\n",
       "      <th>Housing</th>\n",
       "      <th>Years_at_current_residence</th>\n",
       "      <th>Employment_status</th>\n",
       "      <th>Has_been_employed_for_at_least</th>\n",
       "      <th>Has_been_employed_for_at_most</th>\n",
       "      <th>Foreign_worker</th>\n",
       "      <th>Savings_account_balance</th>\n",
       "    </tr>\n",
       "  </thead>\n",
       "  <tbody>\n",
       "    <tr>\n",
       "      <th>0</th>\n",
       "      <td>6</td>\n",
       "      <td>electronic equipment</td>\n",
       "      <td>1169000</td>\n",
       "      <td>4</td>\n",
       "      <td>real estate</td>\n",
       "      <td>0</td>\n",
       "      <td>0</td>\n",
       "      <td>2</td>\n",
       "      <td>critical/pending loans at other banks</td>\n",
       "      <td>0</td>\n",
       "      <td>...</td>\n",
       "      <td>male</td>\n",
       "      <td>single</td>\n",
       "      <td>1</td>\n",
       "      <td>own</td>\n",
       "      <td>4</td>\n",
       "      <td>skilled employee / official</td>\n",
       "      <td>7 years</td>\n",
       "      <td>4 years</td>\n",
       "      <td>1</td>\n",
       "      <td>Low</td>\n",
       "    </tr>\n",
       "    <tr>\n",
       "      <th>1</th>\n",
       "      <td>48</td>\n",
       "      <td>electronic equipment</td>\n",
       "      <td>5951000</td>\n",
       "      <td>2</td>\n",
       "      <td>real estate</td>\n",
       "      <td>0</td>\n",
       "      <td>0</td>\n",
       "      <td>1</td>\n",
       "      <td>existing loans paid back duly till now</td>\n",
       "      <td>1</td>\n",
       "      <td>...</td>\n",
       "      <td>female</td>\n",
       "      <td>divorced/separated/married</td>\n",
       "      <td>1</td>\n",
       "      <td>own</td>\n",
       "      <td>2</td>\n",
       "      <td>skilled employee / official</td>\n",
       "      <td>1 year</td>\n",
       "      <td>4 years</td>\n",
       "      <td>1</td>\n",
       "      <td>Low</td>\n",
       "    </tr>\n",
       "    <tr>\n",
       "      <th>2</th>\n",
       "      <td>12</td>\n",
       "      <td>education</td>\n",
       "      <td>2096000</td>\n",
       "      <td>2</td>\n",
       "      <td>real estate</td>\n",
       "      <td>0</td>\n",
       "      <td>0</td>\n",
       "      <td>1</td>\n",
       "      <td>critical/pending loans at other banks</td>\n",
       "      <td>0</td>\n",
       "      <td>...</td>\n",
       "      <td>male</td>\n",
       "      <td>single</td>\n",
       "      <td>2</td>\n",
       "      <td>own</td>\n",
       "      <td>3</td>\n",
       "      <td>unskilled - resident</td>\n",
       "      <td>4 years</td>\n",
       "      <td>7 years</td>\n",
       "      <td>1</td>\n",
       "      <td>Low</td>\n",
       "    </tr>\n",
       "    <tr>\n",
       "      <th>3</th>\n",
       "      <td>42</td>\n",
       "      <td>FF&amp;E</td>\n",
       "      <td>7882000</td>\n",
       "      <td>2</td>\n",
       "      <td>building society savings agreement/life insurance</td>\n",
       "      <td>0</td>\n",
       "      <td>1</td>\n",
       "      <td>1</td>\n",
       "      <td>existing loans paid back duly till now</td>\n",
       "      <td>0</td>\n",
       "      <td>...</td>\n",
       "      <td>male</td>\n",
       "      <td>single</td>\n",
       "      <td>2</td>\n",
       "      <td>for free</td>\n",
       "      <td>4</td>\n",
       "      <td>skilled employee / official</td>\n",
       "      <td>4 years</td>\n",
       "      <td>7 years</td>\n",
       "      <td>1</td>\n",
       "      <td>Low</td>\n",
       "    </tr>\n",
       "    <tr>\n",
       "      <th>4</th>\n",
       "      <td>24</td>\n",
       "      <td>new vehicle</td>\n",
       "      <td>4870000</td>\n",
       "      <td>3</td>\n",
       "      <td>car or other</td>\n",
       "      <td>0</td>\n",
       "      <td>0</td>\n",
       "      <td>2</td>\n",
       "      <td>delay in paying off loans in the past</td>\n",
       "      <td>1</td>\n",
       "      <td>...</td>\n",
       "      <td>male</td>\n",
       "      <td>single</td>\n",
       "      <td>2</td>\n",
       "      <td>for free</td>\n",
       "      <td>4</td>\n",
       "      <td>skilled employee / official</td>\n",
       "      <td>1 year</td>\n",
       "      <td>4 years</td>\n",
       "      <td>1</td>\n",
       "      <td>Low</td>\n",
       "    </tr>\n",
       "  </tbody>\n",
       "</table>\n",
       "<p>5 rows × 21 columns</p>\n",
       "</div>"
      ],
      "text/plain": [
       "   Months_loan_taken_for               Purpose  Principal_loan_amount  \\\n",
       "0                      6  electronic equipment                1169000   \n",
       "1                     48  electronic equipment                5951000   \n",
       "2                     12             education                2096000   \n",
       "3                     42                  FF&E                7882000   \n",
       "4                     24           new vehicle                4870000   \n",
       "\n",
       "   EMI_rate_in_percentage_of_disposable_income  \\\n",
       "0                                            4   \n",
       "1                                            2   \n",
       "2                                            2   \n",
       "3                                            2   \n",
       "4                                            3   \n",
       "\n",
       "                                            Property  Has_coapplicant  \\\n",
       "0                                        real estate                0   \n",
       "1                                        real estate                0   \n",
       "2                                        real estate                0   \n",
       "3  building society savings agreement/life insurance                0   \n",
       "4                                       car or other                0   \n",
       "\n",
       "   Has_guarantor  Number_of_existing_loans_at_this_bank  \\\n",
       "0              0                                      2   \n",
       "1              0                                      1   \n",
       "2              0                                      1   \n",
       "3              1                                      1   \n",
       "4              0                                      2   \n",
       "\n",
       "                             Loan_history  high_risk_applicant  ...  Gender  \\\n",
       "0   critical/pending loans at other banks                    0  ...    male   \n",
       "1  existing loans paid back duly till now                    1  ...  female   \n",
       "2   critical/pending loans at other banks                    0  ...    male   \n",
       "3  existing loans paid back duly till now                    0  ...    male   \n",
       "4   delay in paying off loans in the past                    1  ...    male   \n",
       "\n",
       "               Marital_status Number_of_dependents   Housing  \\\n",
       "0                      single                    1       own   \n",
       "1  divorced/separated/married                    1       own   \n",
       "2                      single                    2       own   \n",
       "3                      single                    2  for free   \n",
       "4                      single                    2  for free   \n",
       "\n",
       "  Years_at_current_residence            Employment_status  \\\n",
       "0                          4  skilled employee / official   \n",
       "1                          2  skilled employee / official   \n",
       "2                          3         unskilled - resident   \n",
       "3                          4  skilled employee / official   \n",
       "4                          4  skilled employee / official   \n",
       "\n",
       "  Has_been_employed_for_at_least Has_been_employed_for_at_most Foreign_worker  \\\n",
       "0                        7 years                       4 years              1   \n",
       "1                         1 year                       4 years              1   \n",
       "2                        4 years                       7 years              1   \n",
       "3                        4 years                       7 years              1   \n",
       "4                         1 year                       4 years              1   \n",
       "\n",
       "   Savings_account_balance  \n",
       "0                      Low  \n",
       "1                      Low  \n",
       "2                      Low  \n",
       "3                      Low  \n",
       "4                      Low  \n",
       "\n",
       "[5 rows x 21 columns]"
      ]
     },
     "execution_count": 36,
     "metadata": {},
     "output_type": "execute_result"
    }
   ],
   "source": [
    "df.head()#this dataset have no null values"
   ]
  },
  {
   "cell_type": "code",
   "execution_count": 37,
   "metadata": {},
   "outputs": [
    {
     "data": {
      "text/plain": [
       "Months_loan_taken_for                          0\n",
       "Purpose                                        0\n",
       "Principal_loan_amount                          0\n",
       "EMI_rate_in_percentage_of_disposable_income    0\n",
       "Property                                       0\n",
       "Has_coapplicant                                0\n",
       "Has_guarantor                                  0\n",
       "Number_of_existing_loans_at_this_bank          0\n",
       "Loan_history                                   0\n",
       "high_risk_applicant                            0\n",
       "Primary_applicant_age_in_years                 0\n",
       "Gender                                         0\n",
       "Marital_status                                 0\n",
       "Number_of_dependents                           0\n",
       "Housing                                        0\n",
       "Years_at_current_residence                     0\n",
       "Employment_status                              0\n",
       "Has_been_employed_for_at_least                 0\n",
       "Has_been_employed_for_at_most                  0\n",
       "Foreign_worker                                 0\n",
       "Savings_account_balance                        0\n",
       "dtype: int64"
      ]
     },
     "execution_count": 37,
     "metadata": {},
     "output_type": "execute_result"
    }
   ],
   "source": [
    "df.isnull().sum()"
   ]
  },
  {
   "cell_type": "code",
   "execution_count": null,
   "metadata": {},
   "outputs": [],
   "source": []
  },
  {
   "cell_type": "code",
   "execution_count": 38,
   "metadata": {},
   "outputs": [
    {
     "data": {
      "text/plain": [
       "<matplotlib.axes._subplots.AxesSubplot at 0x19ed0860>"
      ]
     },
     "execution_count": 38,
     "metadata": {},
     "output_type": "execute_result"
    },
    {
     "data": {
      "image/png": "[encoded data removed]",
      "text/plain": [
       "<Figure size 432x288 with 2 Axes>"
      ]
     },
     "metadata": {
      "needs_background": "light"
     },
     "output_type": "display_data"
    }
   ],
   "source": [
    "sns.heatmap(df.corr())"
   ]
  },
  {
   "cell_type": "code",
   "execution_count": 39,
   "metadata": {},
   "outputs": [],
   "source": [
    "#here we can the corelation of all the variable \n",
    "#\"Months_loan_taken_for\" and \"Principal_loan_amount\" have good corelation so  we can remove one columns out of two or we can take both of columns ..lets see later i will think about it  "
   ]
  },
  {
   "cell_type": "code",
   "execution_count": 40,
   "metadata": {},
   "outputs": [
    {
     "data": {
      "text/plain": [
       "Months_loan_taken_for                          0.214927\n",
       "Principal_loan_amount                          0.154739\n",
       "EMI_rate_in_percentage_of_disposable_income    0.072404\n",
       "Has_coapplicant                                0.062728\n",
       "Has_guarantor                                 -0.055039\n",
       "Number_of_existing_loans_at_this_bank         -0.045732\n",
       "high_risk_applicant                            1.000000\n",
       "Primary_applicant_age_in_years                -0.091127\n",
       "Number_of_dependents                          -0.003015\n",
       "Years_at_current_residence                     0.002967\n",
       "Foreign_worker                                 0.082079\n",
       "Name: high_risk_applicant, dtype: float64"
      ]
     },
     "execution_count": 40,
     "metadata": {},
     "output_type": "execute_result"
    }
   ],
   "source": [
    "df.corr()[\"high_risk_applicant\"]"
   ]
  },
  {
   "cell_type": "code",
   "execution_count": 41,
   "metadata": {},
   "outputs": [],
   "source": [
    "#all variables corelation with the target variable(\"\"high_risk_applicant\"\")\n",
    "#here we can see \"Has_guarantor\",\"Number_of_existing_loans_at_this_bank\",\"Primary_applicant_age_in_years\", \"Number_of_dependents\" has negative corelation with our target variable. so i decided drop this cols bcz this are not important cols."
   ]
  },
  {
   "cell_type": "code",
   "execution_count": 42,
   "metadata": {},
   "outputs": [],
   "source": [
    "df.drop(columns=['Has_guarantor'],inplace=True)\n",
    "df.drop(columns=['Number_of_existing_loans_at_this_bank'],inplace=True)\n",
    "df.drop(columns=['Primary_applicant_age_in_years'],inplace=True)\n",
    "df.drop(columns=['Number_of_dependents'],inplace=True)"
   ]
  },
  {
   "cell_type": "code",
   "execution_count": 43,
   "metadata": {},
   "outputs": [
    {
     "data": {
      "text/html": [
       "<div>\n",
       "<style scoped>\n",
       "    .dataframe tbody tr th:only-of-type {\n",
       "        vertical-align: middle;\n",
       "    }\n",
       "\n",
       "    .dataframe tbody tr th {\n",
       "        vertical-align: top;\n",
       "    }\n",
       "\n",
       "    .dataframe thead th {\n",
       "        text-align: right;\n",
       "    }\n",
       "</style>\n",
       "<table border=\"1\" class=\"dataframe\">\n",
       "  <thead>\n",
       "    <tr style=\"text-align: right;\">\n",
       "      <th></th>\n",
       "      <th>Months_loan_taken_for</th>\n",
       "      <th>Purpose</th>\n",
       "      <th>Principal_loan_amount</th>\n",
       "      <th>EMI_rate_in_percentage_of_disposable_income</th>\n",
       "      <th>Property</th>\n",
       "      <th>Has_coapplicant</th>\n",
       "      <th>Loan_history</th>\n",
       "      <th>high_risk_applicant</th>\n",
       "      <th>Gender</th>\n",
       "      <th>Marital_status</th>\n",
       "      <th>Housing</th>\n",
       "      <th>Years_at_current_residence</th>\n",
       "      <th>Employment_status</th>\n",
       "      <th>Has_been_employed_for_at_least</th>\n",
       "      <th>Has_been_employed_for_at_most</th>\n",
       "      <th>Foreign_worker</th>\n",
       "      <th>Savings_account_balance</th>\n",
       "    </tr>\n",
       "  </thead>\n",
       "  <tbody>\n",
       "    <tr>\n",
       "      <th>0</th>\n",
       "      <td>6</td>\n",
       "      <td>electronic equipment</td>\n",
       "      <td>1169000</td>\n",
       "      <td>4</td>\n",
       "      <td>real estate</td>\n",
       "      <td>0</td>\n",
       "      <td>critical/pending loans at other banks</td>\n",
       "      <td>0</td>\n",
       "      <td>male</td>\n",
       "      <td>single</td>\n",
       "      <td>own</td>\n",
       "      <td>4</td>\n",
       "      <td>skilled employee / official</td>\n",
       "      <td>7 years</td>\n",
       "      <td>4 years</td>\n",
       "      <td>1</td>\n",
       "      <td>Low</td>\n",
       "    </tr>\n",
       "    <tr>\n",
       "      <th>1</th>\n",
       "      <td>48</td>\n",
       "      <td>electronic equipment</td>\n",
       "      <td>5951000</td>\n",
       "      <td>2</td>\n",
       "      <td>real estate</td>\n",
       "      <td>0</td>\n",
       "      <td>existing loans paid back duly till now</td>\n",
       "      <td>1</td>\n",
       "      <td>female</td>\n",
       "      <td>divorced/separated/married</td>\n",
       "      <td>own</td>\n",
       "      <td>2</td>\n",
       "      <td>skilled employee / official</td>\n",
       "      <td>1 year</td>\n",
       "      <td>4 years</td>\n",
       "      <td>1</td>\n",
       "      <td>Low</td>\n",
       "    </tr>\n",
       "    <tr>\n",
       "      <th>2</th>\n",
       "      <td>12</td>\n",
       "      <td>education</td>\n",
       "      <td>2096000</td>\n",
       "      <td>2</td>\n",
       "      <td>real estate</td>\n",
       "      <td>0</td>\n",
       "      <td>critical/pending loans at other banks</td>\n",
       "      <td>0</td>\n",
       "      <td>male</td>\n",
       "      <td>single</td>\n",
       "      <td>own</td>\n",
       "      <td>3</td>\n",
       "      <td>unskilled - resident</td>\n",
       "      <td>4 years</td>\n",
       "      <td>7 years</td>\n",
       "      <td>1</td>\n",
       "      <td>Low</td>\n",
       "    </tr>\n",
       "    <tr>\n",
       "      <th>3</th>\n",
       "      <td>42</td>\n",
       "      <td>FF&amp;E</td>\n",
       "      <td>7882000</td>\n",
       "      <td>2</td>\n",
       "      <td>building society savings agreement/life insurance</td>\n",
       "      <td>0</td>\n",
       "      <td>existing loans paid back duly till now</td>\n",
       "      <td>0</td>\n",
       "      <td>male</td>\n",
       "      <td>single</td>\n",
       "      <td>for free</td>\n",
       "      <td>4</td>\n",
       "      <td>skilled employee / official</td>\n",
       "      <td>4 years</td>\n",
       "      <td>7 years</td>\n",
       "      <td>1</td>\n",
       "      <td>Low</td>\n",
       "    </tr>\n",
       "    <tr>\n",
       "      <th>4</th>\n",
       "      <td>24</td>\n",
       "      <td>new vehicle</td>\n",
       "      <td>4870000</td>\n",
       "      <td>3</td>\n",
       "      <td>car or other</td>\n",
       "      <td>0</td>\n",
       "      <td>delay in paying off loans in the past</td>\n",
       "      <td>1</td>\n",
       "      <td>male</td>\n",
       "      <td>single</td>\n",
       "      <td>for free</td>\n",
       "      <td>4</td>\n",
       "      <td>skilled employee / official</td>\n",
       "      <td>1 year</td>\n",
       "      <td>4 years</td>\n",
       "      <td>1</td>\n",
       "      <td>Low</td>\n",
       "    </tr>\n",
       "  </tbody>\n",
       "</table>\n",
       "</div>"
      ],
      "text/plain": [
       "   Months_loan_taken_for               Purpose  Principal_loan_amount  \\\n",
       "0                      6  electronic equipment                1169000   \n",
       "1                     48  electronic equipment                5951000   \n",
       "2                     12             education                2096000   \n",
       "3                     42                  FF&E                7882000   \n",
       "4                     24           new vehicle                4870000   \n",
       "\n",
       "   EMI_rate_in_percentage_of_disposable_income  \\\n",
       "0                                            4   \n",
       "1                                            2   \n",
       "2                                            2   \n",
       "3                                            2   \n",
       "4                                            3   \n",
       "\n",
       "                                            Property  Has_coapplicant  \\\n",
       "0                                        real estate                0   \n",
       "1                                        real estate                0   \n",
       "2                                        real estate                0   \n",
       "3  building society savings agreement/life insurance                0   \n",
       "4                                       car or other                0   \n",
       "\n",
       "                             Loan_history  high_risk_applicant  Gender  \\\n",
       "0   critical/pending loans at other banks                    0    male   \n",
       "1  existing loans paid back duly till now                    1  female   \n",
       "2   critical/pending loans at other banks                    0    male   \n",
       "3  existing loans paid back duly till now                    0    male   \n",
       "4   delay in paying off loans in the past                    1    male   \n",
       "\n",
       "               Marital_status   Housing  Years_at_current_residence  \\\n",
       "0                      single       own                           4   \n",
       "1  divorced/separated/married       own                           2   \n",
       "2                      single       own                           3   \n",
       "3                      single  for free                           4   \n",
       "4                      single  for free                           4   \n",
       "\n",
       "             Employment_status Has_been_employed_for_at_least  \\\n",
       "0  skilled employee / official                        7 years   \n",
       "1  skilled employee / official                         1 year   \n",
       "2         unskilled - resident                        4 years   \n",
       "3  skilled employee / official                        4 years   \n",
       "4  skilled employee / official                         1 year   \n",
       "\n",
       "  Has_been_employed_for_at_most  Foreign_worker Savings_account_balance  \n",
       "0                       4 years               1                     Low  \n",
       "1                       4 years               1                     Low  \n",
       "2                       7 years               1                     Low  \n",
       "3                       7 years               1                     Low  \n",
       "4                       4 years               1                     Low  "
      ]
     },
     "execution_count": 43,
     "metadata": {},
     "output_type": "execute_result"
    }
   ],
   "source": [
    "df.head()"
   ]
  },
  {
   "cell_type": "code",
   "execution_count": 44,
   "metadata": {},
   "outputs": [
    {
     "data": {
      "text/plain": [
       "<matplotlib.axes._subplots.AxesSubplot at 0x19fb3470>"
      ]
     },
     "execution_count": 44,
     "metadata": {},
     "output_type": "execute_result"
    },
    {
     "data": {
      "image/png": "[encoded data removed]",
      "text/plain": [
       "<Figure size 432x288 with 1 Axes>"
      ]
     },
     "metadata": {
      "needs_background": "light"
     },
     "output_type": "display_data"
    }
   ],
   "source": [
    "df['Months_loan_taken_for'].hist(bins=20)"
   ]
  },
  {
   "cell_type": "code",
   "execution_count": 45,
   "metadata": {},
   "outputs": [
    {
     "data": {
      "text/plain": [
       "<matplotlib.axes._subplots.AxesSubplot at 0x1a145828>"
      ]
     },
     "execution_count": 45,
     "metadata": {},
     "output_type": "execute_result"
    },
    {
     "data": {
      "image/png": "[encoded data removed]",
      "text/plain": [
       "<Figure size 432x288 with 1 Axes>"
      ]
     },
     "metadata": {
      "needs_background": "light"
     },
     "output_type": "display_data"
    }
   ],
   "source": [
    "df['Months_loan_taken_for_log']=np.log(df['Months_loan_taken_for'])\n",
    "df['Months_loan_taken_for_log'].hist(bins=20)"
   ]
  },
  {
   "cell_type": "code",
   "execution_count": 46,
   "metadata": {},
   "outputs": [],
   "source": [
    "df.drop(columns=['Months_loan_taken_for'],inplace=True)"
   ]
  },
  {
   "cell_type": "code",
   "execution_count": 47,
   "metadata": {},
   "outputs": [
    {
     "data": {
      "text/plain": [
       "<matplotlib.axes._subplots.AxesSubplot at 0x19fb3438>"
      ]
     },
     "execution_count": 47,
     "metadata": {},
     "output_type": "execute_result"
    },
    {
     "data": {
      "image/png": "[encoded data removed]",
      "text/plain": [
       "<Figure size 432x288 with 1 Axes>"
      ]
     },
     "metadata": {
      "needs_background": "light"
     },
     "output_type": "display_data"
    }
   ],
   "source": [
    "df['Principal_loan_amount'].hist(bins=20)"
   ]
  },
  {
   "cell_type": "code",
   "execution_count": 48,
   "metadata": {},
   "outputs": [],
   "source": [
    "#'Principal_loan_amount' is a numerical col and it is right skewed so we have to normalize the distribution using log"
   ]
  },
  {
   "cell_type": "code",
   "execution_count": 49,
   "metadata": {},
   "outputs": [
    {
     "data": {
      "text/plain": [
       "<matplotlib.axes._subplots.AxesSubplot at 0x1c2440b8>"
      ]
     },
     "execution_count": 49,
     "metadata": {},
     "output_type": "execute_result"
    },
    {
     "data": {
      "image/png": "[encoded data removed]",
      "text/plain": [
       "<Figure size 432x288 with 1 Axes>"
      ]
     },
     "metadata": {
      "needs_background": "light"
     },
     "output_type": "display_data"
    }
   ],
   "source": [
    "df['Principal_loan_amount_log']=np.log(df['Principal_loan_amount'])\n",
    "df['Principal_loan_amount_log'].hist(bins=20)"
   ]
  },
  {
   "cell_type": "code",
   "execution_count": 50,
   "metadata": {},
   "outputs": [],
   "source": [
    "#now the distribution is normalize"
   ]
  },
  {
   "cell_type": "code",
   "execution_count": 51,
   "metadata": {},
   "outputs": [],
   "source": [
    "df.drop(columns=['Principal_loan_amount'],inplace=True)"
   ]
  },
  {
   "cell_type": "code",
   "execution_count": 52,
   "metadata": {},
   "outputs": [
    {
     "data": {
      "text/html": [
       "<div>\n",
       "<style scoped>\n",
       "    .dataframe tbody tr th:only-of-type {\n",
       "        vertical-align: middle;\n",
       "    }\n",
       "\n",
       "    .dataframe tbody tr th {\n",
       "        vertical-align: top;\n",
       "    }\n",
       "\n",
       "    .dataframe thead th {\n",
       "        text-align: right;\n",
       "    }\n",
       "</style>\n",
       "<table border=\"1\" class=\"dataframe\">\n",
       "  <thead>\n",
       "    <tr style=\"text-align: right;\">\n",
       "      <th></th>\n",
       "      <th>Purpose</th>\n",
       "      <th>EMI_rate_in_percentage_of_disposable_income</th>\n",
       "      <th>Property</th>\n",
       "      <th>Has_coapplicant</th>\n",
       "      <th>Loan_history</th>\n",
       "      <th>high_risk_applicant</th>\n",
       "      <th>Gender</th>\n",
       "      <th>Marital_status</th>\n",
       "      <th>Housing</th>\n",
       "      <th>Years_at_current_residence</th>\n",
       "      <th>Employment_status</th>\n",
       "      <th>Has_been_employed_for_at_least</th>\n",
       "      <th>Has_been_employed_for_at_most</th>\n",
       "      <th>Foreign_worker</th>\n",
       "      <th>Savings_account_balance</th>\n",
       "      <th>Months_loan_taken_for_log</th>\n",
       "      <th>Principal_loan_amount_log</th>\n",
       "    </tr>\n",
       "  </thead>\n",
       "  <tbody>\n",
       "    <tr>\n",
       "      <th>0</th>\n",
       "      <td>electronic equipment</td>\n",
       "      <td>4</td>\n",
       "      <td>real estate</td>\n",
       "      <td>0</td>\n",
       "      <td>critical/pending loans at other banks</td>\n",
       "      <td>0</td>\n",
       "      <td>male</td>\n",
       "      <td>single</td>\n",
       "      <td>own</td>\n",
       "      <td>4</td>\n",
       "      <td>skilled employee / official</td>\n",
       "      <td>7 years</td>\n",
       "      <td>4 years</td>\n",
       "      <td>1</td>\n",
       "      <td>Low</td>\n",
       "      <td>1.791759</td>\n",
       "      <td>13.971659</td>\n",
       "    </tr>\n",
       "    <tr>\n",
       "      <th>1</th>\n",
       "      <td>electronic equipment</td>\n",
       "      <td>2</td>\n",
       "      <td>real estate</td>\n",
       "      <td>0</td>\n",
       "      <td>existing loans paid back duly till now</td>\n",
       "      <td>1</td>\n",
       "      <td>female</td>\n",
       "      <td>divorced/separated/married</td>\n",
       "      <td>own</td>\n",
       "      <td>2</td>\n",
       "      <td>skilled employee / official</td>\n",
       "      <td>1 year</td>\n",
       "      <td>4 years</td>\n",
       "      <td>1</td>\n",
       "      <td>Low</td>\n",
       "      <td>3.871201</td>\n",
       "      <td>15.599070</td>\n",
       "    </tr>\n",
       "    <tr>\n",
       "      <th>2</th>\n",
       "      <td>education</td>\n",
       "      <td>2</td>\n",
       "      <td>real estate</td>\n",
       "      <td>0</td>\n",
       "      <td>critical/pending loans at other banks</td>\n",
       "      <td>0</td>\n",
       "      <td>male</td>\n",
       "      <td>single</td>\n",
       "      <td>own</td>\n",
       "      <td>3</td>\n",
       "      <td>unskilled - resident</td>\n",
       "      <td>4 years</td>\n",
       "      <td>7 years</td>\n",
       "      <td>1</td>\n",
       "      <td>Low</td>\n",
       "      <td>2.484907</td>\n",
       "      <td>14.555541</td>\n",
       "    </tr>\n",
       "    <tr>\n",
       "      <th>3</th>\n",
       "      <td>FF&amp;E</td>\n",
       "      <td>2</td>\n",
       "      <td>building society savings agreement/life insurance</td>\n",
       "      <td>0</td>\n",
       "      <td>existing loans paid back duly till now</td>\n",
       "      <td>0</td>\n",
       "      <td>male</td>\n",
       "      <td>single</td>\n",
       "      <td>for free</td>\n",
       "      <td>4</td>\n",
       "      <td>skilled employee / official</td>\n",
       "      <td>4 years</td>\n",
       "      <td>7 years</td>\n",
       "      <td>1</td>\n",
       "      <td>Low</td>\n",
       "      <td>3.737670</td>\n",
       "      <td>15.880092</td>\n",
       "    </tr>\n",
       "    <tr>\n",
       "      <th>4</th>\n",
       "      <td>new vehicle</td>\n",
       "      <td>3</td>\n",
       "      <td>car or other</td>\n",
       "      <td>0</td>\n",
       "      <td>delay in paying off loans in the past</td>\n",
       "      <td>1</td>\n",
       "      <td>male</td>\n",
       "      <td>single</td>\n",
       "      <td>for free</td>\n",
       "      <td>4</td>\n",
       "      <td>skilled employee / official</td>\n",
       "      <td>1 year</td>\n",
       "      <td>4 years</td>\n",
       "      <td>1</td>\n",
       "      <td>Low</td>\n",
       "      <td>3.178054</td>\n",
       "      <td>15.398604</td>\n",
       "    </tr>\n",
       "  </tbody>\n",
       "</table>\n",
       "</div>"
      ],
      "text/plain": [
       "                Purpose  EMI_rate_in_percentage_of_disposable_income  \\\n",
       "0  electronic equipment                                            4   \n",
       "1  electronic equipment                                            2   \n",
       "2             education                                            2   \n",
       "3                  FF&E                                            2   \n",
       "4           new vehicle                                            3   \n",
       "\n",
       "                                            Property  Has_coapplicant  \\\n",
       "0                                        real estate                0   \n",
       "1                                        real estate                0   \n",
       "2                                        real estate                0   \n",
       "3  building society savings agreement/life insurance                0   \n",
       "4                                       car or other                0   \n",
       "\n",
       "                             Loan_history  high_risk_applicant  Gender  \\\n",
       "0   critical/pending loans at other banks                    0    male   \n",
       "1  existing loans paid back duly till now                    1  female   \n",
       "2   critical/pending loans at other banks                    0    male   \n",
       "3  existing loans paid back duly till now                    0    male   \n",
       "4   delay in paying off loans in the past                    1    male   \n",
       "\n",
       "               Marital_status   Housing  Years_at_current_residence  \\\n",
       "0                      single       own                           4   \n",
       "1  divorced/separated/married       own                           2   \n",
       "2                      single       own                           3   \n",
       "3                      single  for free                           4   \n",
       "4                      single  for free                           4   \n",
       "\n",
       "             Employment_status Has_been_employed_for_at_least  \\\n",
       "0  skilled employee / official                        7 years   \n",
       "1  skilled employee / official                         1 year   \n",
       "2         unskilled - resident                        4 years   \n",
       "3  skilled employee / official                        4 years   \n",
       "4  skilled employee / official                         1 year   \n",
       "\n",
       "  Has_been_employed_for_at_most  Foreign_worker Savings_account_balance  \\\n",
       "0                       4 years               1                     Low   \n",
       "1                       4 years               1                     Low   \n",
       "2                       7 years               1                     Low   \n",
       "3                       7 years               1                     Low   \n",
       "4                       4 years               1                     Low   \n",
       "\n",
       "   Months_loan_taken_for_log  Principal_loan_amount_log  \n",
       "0                   1.791759                  13.971659  \n",
       "1                   3.871201                  15.599070  \n",
       "2                   2.484907                  14.555541  \n",
       "3                   3.737670                  15.880092  \n",
       "4                   3.178054                  15.398604  "
      ]
     },
     "execution_count": 52,
     "metadata": {},
     "output_type": "execute_result"
    }
   ],
   "source": [
    "df.head()"
   ]
  },
  {
   "cell_type": "code",
   "execution_count": 53,
   "metadata": {},
   "outputs": [],
   "source": [
    "#so this is my final data after cleaning"
   ]
  },
  {
   "cell_type": "code",
   "execution_count": 54,
   "metadata": {},
   "outputs": [],
   "source": [
    "df.to_csv('data1.csv')"
   ]
  },
  {
   "cell_type": "code",
   "execution_count": 55,
   "metadata": {},
   "outputs": [],
   "source": [
    "X = df.drop(columns=['high_risk_applicant']).values\n",
    "y = df['high_risk_applicant'].values #devided the data into two part x and y.x is independent variable and y is dependent variable or target variable "
   ]
  },
  {
   "cell_type": "code",
   "execution_count": 56,
   "metadata": {},
   "outputs": [
    {
     "data": {
      "text/plain": [
       "array([['electronic equipment', 4, 'real estate', ..., 'Low',\n",
       "        1.791759469228055, 13.971659240454205],\n",
       "       ['electronic equipment', 2, 'real estate', ..., 'Low',\n",
       "        3.871201010907891, 15.59906983062699],\n",
       "       ['education', 2, 'real estate', ..., 'Low', 2.4849066497880004,\n",
       "        14.55554132442307],\n",
       "       ...,\n",
       "       ['electronic equipment', 4, 'car or other', ..., 'Low',\n",
       "        2.4849066497880004, 13.597354548161103],\n",
       "       ['electronic equipment', 4, 'car or other', ..., 'Low',\n",
       "        3.8066624897703196, 14.427989835456765],\n",
       "       ['used vehicle', 3, 'car or other', ..., 'Medium',\n",
       "        3.8066624897703196, 15.33633581204177]], dtype=object)"
      ]
     },
     "execution_count": 56,
     "metadata": {},
     "output_type": "execute_result"
    }
   ],
   "source": [
    "X"
   ]
  },
  {
   "cell_type": "code",
   "execution_count": 57,
   "metadata": {},
   "outputs": [
    {
     "data": {
      "text/plain": [
       "array([0, 1, 0, 0, 1, 0, 0, 0, 0, 1, 1, 1, 0, 1, 0, 1, 0, 0, 1, 0, 0, 0,\n",
       "       0, 0, 0, 0, 0, 0, 0, 1, 0, 0, 0, 0, 0, 1, 0, 1, 0, 0, 0, 0, 0, 0,\n",
       "       1, 0, 0, 0, 0, 0, 0, 0, 0, 0, 1, 0, 1, 0, 0, 1, 0, 0, 1, 1, 0, 0,\n",
       "       0, 0, 1, 0, 0, 0, 0, 0, 1, 0, 1, 0, 0, 0, 1, 0, 0, 0, 0, 0, 0, 1,\n",
       "       0, 1, 0, 0, 1, 0, 0, 1, 0, 0, 0, 0, 0, 0, 0, 0, 0, 1, 1, 0, 0, 0,\n",
       "       0, 0, 0, 1, 0, 0, 1, 0, 1, 0, 1, 0, 0, 0, 1, 0, 0, 1, 0, 1, 0, 1,\n",
       "       0, 0, 0, 0, 0, 1, 0, 0, 0, 0, 0, 1, 0, 0, 0, 0, 0, 0, 0, 0, 0, 0,\n",
       "       0, 1, 0, 0, 0, 0, 0, 0, 0, 0, 0, 0, 1, 0, 0, 1, 1, 0, 1, 0, 1, 1,\n",
       "       0, 0, 0, 0, 1, 1, 1, 0, 1, 0, 1, 0, 1, 0, 1, 1, 1, 0, 1, 1, 0, 1,\n",
       "       0, 1, 0, 0, 0, 1, 0, 0, 0, 0, 0, 0, 0, 0, 1, 1, 0, 0, 0, 0, 0, 0,\n",
       "       0, 0, 0, 0, 0, 0, 1, 1, 1, 0, 1, 0, 0, 0, 0, 1, 1, 1, 0, 0, 1, 0,\n",
       "       1, 0, 0, 0, 0, 0, 0, 1, 0, 0, 1, 0, 0, 0, 0, 1, 0, 0, 0, 0, 0, 0,\n",
       "       0, 1, 0, 0, 1, 0, 0, 0, 0, 1, 1, 0, 0, 0, 1, 0, 0, 0, 0, 0, 0, 0,\n",
       "       0, 0, 0, 1, 0, 1, 0, 0, 0, 1, 0, 0, 0, 0, 0, 1, 1, 0, 1, 0, 0, 1,\n",
       "       1, 0, 0, 0, 0, 1, 0, 1, 0, 0, 0, 0, 1, 1, 0, 0, 0, 0, 0, 0, 0, 0,\n",
       "       0, 1, 1, 1, 1, 1, 0, 1, 0, 0, 0, 0, 0, 0, 0, 0, 0, 0, 0, 1, 0, 1,\n",
       "       0, 1, 0, 1, 0, 1, 0, 1, 0, 0, 0, 0, 1, 0, 0, 0, 1, 0, 0, 0, 0, 0,\n",
       "       1, 1, 0, 0, 1, 0, 0, 1, 0, 0, 0, 0, 0, 0, 0, 0, 0, 0, 0, 0, 0, 0,\n",
       "       0, 0, 1, 0, 0, 0, 1, 0, 0, 1, 0, 0, 0, 1, 0, 0, 1, 0, 1, 0, 1, 0,\n",
       "       0, 1, 0, 0, 0, 0, 1, 0, 0, 0, 0, 1, 0, 1, 0, 0, 0, 1, 0, 0, 0, 1,\n",
       "       0, 0, 0, 1, 1, 0, 1, 0, 0, 1, 0, 0, 0, 0, 1, 0, 0, 1, 0, 0, 0, 0,\n",
       "       0, 0, 0, 0, 1, 0, 0, 0, 1, 1, 1, 0, 1, 1, 0, 0, 0, 0, 0, 0, 0, 0,\n",
       "       0, 1, 0, 0, 0, 0, 0, 1, 0, 0, 0, 1, 1, 0, 0, 0, 1, 0, 0, 1, 1, 1,\n",
       "       0, 1, 0, 0, 1, 0, 0, 0, 0, 0, 0, 1, 0, 0, 0, 1, 1, 0, 0, 0, 0, 0,\n",
       "       1, 0, 0, 1, 0, 0, 0, 1, 0, 0, 1, 0, 1, 0, 1, 1, 0, 1, 0, 0, 1, 0,\n",
       "       0, 0, 1, 0, 0, 1, 1, 1, 1, 1, 0, 1, 0, 1, 0, 0, 1, 0, 0, 1, 1, 0,\n",
       "       0, 0, 0, 0, 0, 0, 1, 0, 1, 0, 0, 1, 0, 1, 0, 0, 1, 1, 0, 0, 0, 1,\n",
       "       1, 1, 1, 1, 1, 0, 0, 1, 1, 1, 0, 0, 0, 1, 0, 0, 1, 1, 0, 0, 1, 0,\n",
       "       0, 0, 1, 0, 0, 1, 1, 0, 1, 0, 0, 1, 0, 0, 0, 1, 0, 1, 1, 0, 0, 0,\n",
       "       0, 1, 1, 0, 1, 0, 0, 1, 0, 1, 1, 1, 0, 1, 1, 1, 0, 0, 1, 0, 0, 0,\n",
       "       0, 1, 0, 0, 0, 0, 0, 0, 1, 0, 0, 0, 0, 0, 1, 0, 0, 1, 0, 0, 0, 0,\n",
       "       0, 0, 0, 0, 0, 0, 0, 0, 0, 0, 0, 0, 0, 0, 0, 0, 0, 0, 1, 1, 0, 0,\n",
       "       0, 0, 1, 1, 0, 0, 0, 1, 0, 0, 1, 0, 0, 0, 0, 0, 1, 1, 1, 0, 1, 0,\n",
       "       0, 1, 1, 0, 0, 1, 0, 0, 0, 0, 1, 0, 0, 1, 0, 0, 0, 0, 0, 0, 0, 1,\n",
       "       0, 0, 0, 1, 0, 0, 1, 1, 0, 1, 0, 1, 0, 1, 0, 1, 0, 0, 1, 0, 0, 0,\n",
       "       0, 1, 0, 0, 0, 1, 0, 0, 0, 0, 1, 0, 0, 1, 0, 0, 0, 0, 1, 1, 1, 0,\n",
       "       0, 0, 0, 0, 1, 0, 0, 0, 0, 0, 0, 0, 0, 1, 0, 0, 0, 1, 0, 0, 1, 1,\n",
       "       1, 0, 0, 0, 0, 1, 0, 0, 1, 0, 0, 0, 1, 1, 1, 0, 0, 1, 1, 0, 1, 1,\n",
       "       0, 0, 0, 0, 1, 0, 1, 0, 0, 0, 1, 0, 0, 1, 1, 0, 0, 1, 0, 0, 0, 0,\n",
       "       1, 0, 0, 1, 1, 0, 1, 0, 0, 0, 0, 0, 0, 0, 0, 0, 0, 0, 0, 0, 1, 0,\n",
       "       0, 0, 0, 0, 1, 1, 0, 1, 0, 0, 0, 0, 0, 0, 0, 0, 0, 0, 0, 1, 1, 0,\n",
       "       0, 0, 0, 0, 0, 0, 0, 0, 0, 1, 0, 0, 1, 1, 0, 1, 1, 1, 0, 0, 1, 0,\n",
       "       1, 1, 0, 1, 0, 0, 0, 1, 0, 0, 0, 1, 1, 0, 1, 0, 0, 0, 0, 0, 0, 0,\n",
       "       1, 0, 1, 1, 0, 1, 1, 1, 0, 0, 0, 0, 1, 0, 0, 0, 0, 1, 0, 0, 1, 0,\n",
       "       0, 0, 0, 0, 1, 1, 0, 0, 0, 0, 1, 1, 1, 1, 0, 1, 0, 0, 0, 0, 0, 0,\n",
       "       0, 0, 0, 0, 0, 0, 0, 0, 1, 0], dtype=int64)"
      ]
     },
     "execution_count": 57,
     "metadata": {},
     "output_type": "execute_result"
    }
   ],
   "source": [
    "y"
   ]
  },
  {
   "cell_type": "code",
   "execution_count": 58,
   "metadata": {},
   "outputs": [],
   "source": [
    "from sklearn.model_selection import train_test_split\n",
    "X_train,X_test,y_train,y_test = train_test_split(X,y,test_size=0.2,random_state=0)"
   ]
  },
  {
   "cell_type": "code",
   "execution_count": 59,
   "metadata": {},
   "outputs": [],
   "source": [
    "#split the data set into train and test 80% for train and 20% test"
   ]
  },
  {
   "cell_type": "code",
   "execution_count": 60,
   "metadata": {},
   "outputs": [
    {
     "data": {
      "text/plain": [
       "array([['new vehicle', 4, 'car or other', ..., 'Medium',\n",
       "        3.58351893845611, 14.867031239098534],\n",
       "       ['new vehicle', 4,\n",
       "        'building society savings agreement/life insurance', ..., 'Low',\n",
       "        3.1780538303479458, 14.954304636265215],\n",
       "       ['new vehicle', 4,\n",
       "        'building society savings agreement/life insurance', ...,\n",
       "        'Medium', 4.0943445622221, 15.818071055308152],\n",
       "       ...,\n",
       "       ['education', 1, 'real estate', ..., 'Low', 2.1972245773362196,\n",
       "        15.158897418072888],\n",
       "       ['FF&E', 2, 'real estate', ..., 'Low', 2.8903717578961645,\n",
       "        14.471993754152628],\n",
       "       ['business', 1,\n",
       "        'building society savings agreement/life insurance', ...,\n",
       "        'Medium', 3.58351893845611, 16.103692420647576]], dtype=object)"
      ]
     },
     "execution_count": 60,
     "metadata": {},
     "output_type": "execute_result"
    }
   ],
   "source": [
    "X_train"
   ]
  },
  {
   "cell_type": "code",
   "execution_count": 61,
   "metadata": {},
   "outputs": [],
   "source": [
    "#so there are lots of cetagorical veriable so i import LabelEncoder and apply it on all the cetagorical veriable"
   ]
  },
  {
   "cell_type": "code",
   "execution_count": 62,
   "metadata": {},
   "outputs": [],
   "source": [
    "from sklearn.preprocessing import LabelEncoder\n",
    "labelencoder_X=LabelEncoder()"
   ]
  },
  {
   "cell_type": "code",
   "execution_count": 63,
   "metadata": {},
   "outputs": [],
   "source": [
    "for i in range(0,14):\n",
    "    X_train[:,i]=labelencoder_X.fit_transform(X_train[:,i])"
   ]
  },
  {
   "cell_type": "code",
   "execution_count": 64,
   "metadata": {},
   "outputs": [
    {
     "data": {
      "text/plain": [
       "array([[6, 3, 1, ..., 2, 3.58351893845611, 14.867031239098534],\n",
       "       [6, 3, 0, ..., 1, 3.1780538303479458, 14.954304636265215],\n",
       "       [6, 3, 0, ..., 2, 4.0943445622221, 15.818071055308152],\n",
       "       ...,\n",
       "       [4, 0, 2, ..., 1, 2.1972245773362196, 15.158897418072888],\n",
       "       [0, 1, 2, ..., 1, 2.8903717578961645, 14.471993754152628],\n",
       "       [1, 0, 0, ..., 2, 3.58351893845611, 16.103692420647576]],\n",
       "      dtype=object)"
      ]
     },
     "execution_count": 64,
     "metadata": {},
     "output_type": "execute_result"
    }
   ],
   "source": [
    "X_train"
   ]
  },
  {
   "cell_type": "code",
   "execution_count": 65,
   "metadata": {},
   "outputs": [
    {
     "data": {
      "text/plain": [
       "array([0, 1, 1, 1, 0, 0, 1, 0, 0, 0, 1, 0, 1, 0, 0, 0, 0, 0, 0, 1, 1, 0,\n",
       "       0, 0, 0, 0, 0, 1, 1, 0, 0, 1, 1, 0, 1, 0, 0, 0, 0, 1, 1, 0, 0, 1,\n",
       "       0, 0, 0, 0, 0, 0, 0, 0, 0, 0, 0, 0, 0, 0, 0, 0, 0, 0, 0, 0, 0, 1,\n",
       "       0, 1, 0, 1, 1, 1, 0, 0, 0, 0, 0, 0, 1, 1, 0, 0, 0, 0, 1, 0, 0, 0,\n",
       "       0, 0, 0, 0, 0, 0, 1, 0, 1, 0, 1, 1, 1, 1, 0, 0, 0, 0, 1, 1, 1, 0,\n",
       "       1, 1, 0, 0, 0, 0, 0, 0, 0, 0, 0, 0, 0, 1, 0, 1, 0, 1, 0, 0, 0, 0,\n",
       "       0, 0, 0, 0, 1, 0, 1, 0, 1, 0, 1, 0, 0, 1, 1, 0, 1, 1, 0, 0, 0, 0,\n",
       "       0, 0, 0, 1, 1, 0, 0, 0, 1, 1, 0, 0, 1, 0, 1, 1, 0, 1, 0, 0, 0, 1,\n",
       "       1, 0, 0, 0, 1, 0, 0, 0, 1, 1, 1, 0, 0, 1, 0, 0, 0, 0, 1, 0, 0, 1,\n",
       "       0, 1, 0, 0, 1, 0, 0, 1, 1, 0, 1, 1, 0, 0, 0, 0, 0, 0, 0, 0, 0, 1,\n",
       "       0, 0, 0, 0, 0, 0, 0, 1, 0, 1, 0, 0, 0, 0, 0, 0, 1, 0, 1, 1, 0, 0,\n",
       "       0, 0, 0, 0, 0, 0, 1, 1, 0, 1, 0, 1, 0, 0, 0, 0, 0, 1, 1, 1, 0, 0,\n",
       "       0, 0, 0, 0, 0, 1, 1, 0, 0, 0, 0, 0, 0, 1, 0, 0, 0, 0, 0, 0, 1, 0,\n",
       "       1, 0, 0, 1, 0, 0, 1, 0, 0, 1, 1, 0, 0, 1, 1, 0, 0, 0, 1, 0, 0, 0,\n",
       "       1, 0, 0, 0, 0, 0, 0, 0, 0, 0, 0, 0, 0, 1, 1, 0, 0, 0, 0, 0, 0, 0,\n",
       "       0, 1, 0, 0, 0, 0, 1, 1, 0, 0, 0, 0, 0, 0, 0, 1, 0, 1, 0, 0, 0, 0,\n",
       "       0, 1, 0, 0, 0, 1, 0, 0, 0, 0, 0, 0, 1, 0, 1, 1, 1, 1, 0, 1, 0, 1,\n",
       "       0, 0, 0, 0, 1, 1, 0, 0, 1, 0, 0, 0, 0, 1, 0, 1, 1, 0, 1, 0, 0, 1,\n",
       "       0, 0, 0, 0, 1, 0, 1, 1, 1, 1, 0, 1, 0, 1, 0, 0, 1, 0, 0, 0, 0, 1,\n",
       "       0, 0, 1, 1, 0, 0, 0, 0, 0, 0, 0, 1, 0, 0, 0, 0, 0, 1, 0, 0, 0, 0,\n",
       "       0, 0, 0, 1, 0, 0, 1, 1, 1, 1, 0, 0, 0, 0, 0, 0, 1, 0, 0, 1, 1, 0,\n",
       "       0, 0, 0, 1, 0, 0, 1, 0, 1, 0, 0, 0, 0, 1, 0, 0, 0, 0, 0, 1, 0, 1,\n",
       "       0, 1, 1, 1, 1, 0, 0, 1, 1, 0, 0, 0, 0, 0, 0, 0, 1, 1, 0, 0, 0, 1,\n",
       "       0, 0, 0, 0, 0, 0, 0, 0, 0, 0, 1, 0, 0, 0, 0, 0, 0, 0, 1, 0, 0, 1,\n",
       "       0, 0, 1, 1, 1, 1, 0, 0, 0, 0, 0, 0, 0, 0, 0, 0, 1, 0, 0, 0, 1, 0,\n",
       "       1, 0, 0, 0, 0, 1, 0, 1, 0, 0, 1, 0, 1, 0, 1, 0, 0, 0, 0, 1, 0, 0,\n",
       "       1, 1, 0, 1, 0, 0, 1, 1, 0, 0, 0, 0, 0, 0, 0, 0, 0, 0, 1, 1, 0, 1,\n",
       "       0, 0, 0, 0, 0, 0, 0, 1, 0, 1, 0, 1, 0, 0, 0, 0, 0, 0, 0, 0, 0, 1,\n",
       "       0, 0, 0, 0, 1, 0, 0, 0, 0, 0, 0, 1, 0, 1, 1, 0, 0, 0, 0, 0, 1, 1,\n",
       "       0, 1, 1, 0, 1, 0, 0, 0, 0, 1, 0, 0, 0, 0, 0, 0, 0, 1, 1, 0, 0, 0,\n",
       "       0, 0, 0, 0, 0, 0, 1, 0, 0, 0, 0, 1, 0, 1, 0, 1, 0, 0, 0, 0, 0, 1,\n",
       "       1, 0, 0, 1, 0, 0, 0, 1, 0, 0, 0, 1, 0, 1, 1, 1, 0, 1, 1, 0, 0, 0,\n",
       "       1, 0, 1, 0, 1, 1, 0, 0, 0, 0, 0, 0, 0, 1, 0, 1, 1, 0, 0, 0, 0, 0,\n",
       "       0, 1, 1, 0, 0, 0, 0, 0, 0, 1, 0, 0, 0, 0, 0, 0, 1, 0, 0, 0, 1, 1,\n",
       "       0, 1, 0, 1, 0, 0, 0, 0, 0, 0, 1, 0, 0, 1, 0, 1, 0, 0, 1, 0, 0, 0,\n",
       "       0, 0, 0, 1, 1, 1, 1, 1, 0, 0, 0, 0, 0, 0, 1, 0, 0, 0, 1, 0, 0, 1,\n",
       "       1, 1, 1, 1, 1, 0, 1, 0], dtype=int64)"
      ]
     },
     "execution_count": 65,
     "metadata": {},
     "output_type": "execute_result"
    }
   ],
   "source": [
    "y_train"
   ]
  },
  {
   "cell_type": "code",
   "execution_count": 66,
   "metadata": {},
   "outputs": [],
   "source": [
    "#y_train values are already in 0 and 1 so i didnt apply labelencoder in y_train"
   ]
  },
  {
   "cell_type": "code",
   "execution_count": 67,
   "metadata": {},
   "outputs": [],
   "source": [
    "for i in range(0,14):\n",
    "    X_test[:,i]=labelencoder_X.fit_transform(X_test[:,i]) #same thing do in X_test"
   ]
  },
  {
   "cell_type": "code",
   "execution_count": 68,
   "metadata": {},
   "outputs": [
    {
     "data": {
      "text/plain": [
       "array([[0, 3, 0, ..., 1, 3.58351893845611, 15.191502026088267],\n",
       "       [6, 0, 2, ..., 2, 2.1972245773362196, 15.090035018241155],\n",
       "       [0, 2, 2, ..., 1, 2.8903717578961645, 14.737783361515977],\n",
       "       ...,\n",
       "       [2, 0, 0, ..., 1, 1.791759469228055, 13.745088093667729],\n",
       "       [6, 1, 1, ..., 2, 3.58351893845611, 15.905644729182853],\n",
       "       [5, 1, 1, ..., 2, 1.791759469228055, 14.112647789186811]],\n",
       "      dtype=object)"
      ]
     },
     "execution_count": 68,
     "metadata": {},
     "output_type": "execute_result"
    }
   ],
   "source": [
    "X_test"
   ]
  },
  {
   "cell_type": "code",
   "execution_count": 69,
   "metadata": {},
   "outputs": [],
   "source": [
    "from sklearn.preprocessing import StandardScaler\n",
    "ss=StandardScaler()\n",
    "X_train=ss.fit_transform(X_train)\n",
    "X_test=ss.fit_transform(X_test)"
   ]
  },
  {
   "cell_type": "code",
   "execution_count": null,
   "metadata": {},
   "outputs": [],
   "source": []
  },
  {
   "cell_type": "code",
   "execution_count": 70,
   "metadata": {},
   "outputs": [
    {
     "name": "stdout",
     "output_type": "stream",
     "text": [
      "the accuracy of decision tree is:  0.66\n"
     ]
    }
   ],
   "source": [
    "from sklearn.tree import DecisionTreeClassifier\n",
    "DTClassifier=DecisionTreeClassifier(criterion='entropy',random_state=0)\n",
    "DTClassifier.fit(X_train,y_train)\n",
    "y_pred=DTClassifier.predict(X_test)\n",
    "from sklearn import metrics\n",
    "print(\"the accuracy of decision tree is: \", metrics.accuracy_score(y_pred,y_test))"
   ]
  },
  {
   "cell_type": "code",
   "execution_count": 71,
   "metadata": {},
   "outputs": [
    {
     "data": {
      "text/plain": [
       "0.67"
      ]
     },
     "execution_count": 71,
     "metadata": {},
     "output_type": "execute_result"
    }
   ],
   "source": [
    "from sklearn.ensemble import RandomForestClassifier\n",
    "from sklearn.metrics import accuracy_score\n",
    "rf = RandomForestClassifier()\n",
    "rf.fit(X_train,y_train)\n",
    "y_pred = rf.predict(X_test)\n",
    "accuracy_score(y_test,y_pred)"
   ]
  },
  {
   "cell_type": "code",
   "execution_count": 72,
   "metadata": {},
   "outputs": [
    {
     "data": {
      "text/plain": [
       "0.655"
      ]
     },
     "execution_count": 72,
     "metadata": {},
     "output_type": "execute_result"
    }
   ],
   "source": [
    "from xgboost import XGBClassifier\n",
    "xgb = XGBClassifier()\n",
    "xgb.fit(X_train,y_train)\n",
    "y_pred = xgb.predict(X_test)\n",
    "accuracy_score(y_test,y_pred)"
   ]
  },
  {
   "cell_type": "code",
   "execution_count": 73,
   "metadata": {},
   "outputs": [
    {
     "data": {
      "text/plain": [
       "0.655"
      ]
     },
     "execution_count": 73,
     "metadata": {},
     "output_type": "execute_result"
    }
   ],
   "source": [
    "from sklearn.naive_bayes import GaussianNB\n",
    "NBClassifier=GaussianNB()\n",
    "NBClassifier.fit(X_train,y_train)\n",
    "y_pred = NBClassifier.predict(X_test)\n",
    "accuracy_score(y_test,y_pred)"
   ]
  },
  {
   "cell_type": "code",
   "execution_count": null,
   "metadata": {},
   "outputs": [],
   "source": []
  }
 ],
 "metadata": {
  "kernelspec": {
   "display_name": "Python 3",
   "language": "python",
   "name": "python3"
  },
  "language_info": {
   "codemirror_mode": {
    "name": "ipython",
    "version": 3
   },
   "file_extension": ".py",
   "mimetype": "text/x-python",
   "name": "python",
   "nbconvert_exporter": "python",
   "pygments_lexer": "ipython3",
   "version": "3.7.0"
  }
 },
 "nbformat": 4,
 "nbformat_minor": 2
}
